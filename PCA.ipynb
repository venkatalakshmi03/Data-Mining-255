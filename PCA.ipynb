{
  "nbformat": 4,
  "nbformat_minor": 0,
  "metadata": {
    "colab": {
      "name": "PCA.ipynb",
      "provenance": [],
      "collapsed_sections": [],
      "machine_shape": "hm"
    },
    "kernelspec": {
      "name": "python3",
      "display_name": "Python 3"
    },
    "language_info": {
      "name": "python"
    },
    "accelerator": "GPU"
  },
  "cells": [
    {
      "cell_type": "code",
      "metadata": {
        "id": "9DOI97WylzyI"
      },
      "source": [
        "import os\n",
        "import random \n",
        "\n",
        "import pandas as pd \n",
        "import numpy as np \n",
        "from scipy.stats import kurtosis, skew \n",
        "from scipy import stats\n",
        "\n",
        "import matplotlib.pyplot as plt \n",
        "import seaborn as sns\n",
        "# Importing librarys to use on interactive graphs\n",
        "import plotly.offline as plty\n",
        "from plotly import tools\n",
        "import plotly.express as px\n",
        "import time\n",
        "from plotly.offline import init_notebook_mode, iplot, plot \n",
        "import plotly.graph_objs as go \n",
        "from sklearn import model_selection, preprocessing, metrics\n",
        "import lightgbm as lgb\n",
        "import json # to convert json in df\n",
        "from pandas import json_normalize # to normalize the json file\n",
        "from datetime import datetime\n",
        "from sklearn.feature_selection import SelectKBest, chi2\n",
        "import lightgbm as lgb\n",
        "import xgboost as xgb\n",
        "from sklearn.model_selection import cross_val_score\n",
        "from sklearn.model_selection import RepeatedKFold\n",
        "from sklearn.decomposition import PCA\n",
        "from sklearn.metrics import mean_squared_error"
      ],
      "execution_count": 1,
      "outputs": []
    },
    {
      "cell_type": "code",
      "metadata": {
        "id": "FNLe61azpRUO",
        "colab": {
          "base_uri": "https://localhost:8080/"
        },
        "outputId": "c1cd13c1-68e2-4d34-85b4-1d13dcbedde2"
      },
      "source": [
        "from google.colab import drive\n",
        "drive.mount('/content/gdrive')"
      ],
      "execution_count": 2,
      "outputs": [
        {
          "output_type": "stream",
          "text": [
            "Drive already mounted at /content/gdrive; to attempt to forcibly remount, call drive.mount(\"/content/gdrive\", force_remount=True).\n"
          ],
          "name": "stdout"
        }
      ]
    },
    {
      "cell_type": "code",
      "metadata": {
        "id": "ODy9M4q5paix"
      },
      "source": [
        "# !unzip -q \"./gdrive/MyDrive/train-255.zip\""
      ],
      "execution_count": 3,
      "outputs": []
    },
    {
      "cell_type": "code",
      "metadata": {
        "colab": {
          "base_uri": "https://localhost:8080/"
        },
        "id": "DiWIDyD3qgfL",
        "outputId": "44d09b6d-a92e-43e6-ab6c-d044b2e176a5"
      },
      "source": [
        "df_train=pd.read_csv('./train.csv')"
      ],
      "execution_count": 4,
      "outputs": [
        {
          "output_type": "stream",
          "text": [
            "/usr/local/lib/python3.7/dist-packages/IPython/core/interactiveshell.py:2718: DtypeWarning:\n",
            "\n",
            "Columns (3) have mixed types.Specify dtype option on import or set low_memory=False.\n",
            "\n"
          ],
          "name": "stderr"
        }
      ]
    },
    {
      "cell_type": "code",
      "metadata": {
        "colab": {
          "base_uri": "https://localhost:8080/",
          "height": 479
        },
        "id": "dLnf0Kvjq4VN",
        "outputId": "eceb5d35-9573-46b2-fef9-ed9eb6ede9e1"
      },
      "source": [
        "df_train.head()"
      ],
      "execution_count": 5,
      "outputs": [
        {
          "output_type": "execute_result",
          "data": {
            "text/html": [
              "<div>\n",
              "<style scoped>\n",
              "    .dataframe tbody tr th:only-of-type {\n",
              "        vertical-align: middle;\n",
              "    }\n",
              "\n",
              "    .dataframe tbody tr th {\n",
              "        vertical-align: top;\n",
              "    }\n",
              "\n",
              "    .dataframe thead th {\n",
              "        text-align: right;\n",
              "    }\n",
              "</style>\n",
              "<table border=\"1\" class=\"dataframe\">\n",
              "  <thead>\n",
              "    <tr style=\"text-align: right;\">\n",
              "      <th></th>\n",
              "      <th>channelGrouping</th>\n",
              "      <th>date</th>\n",
              "      <th>device</th>\n",
              "      <th>fullVisitorId</th>\n",
              "      <th>geoNetwork</th>\n",
              "      <th>sessionId</th>\n",
              "      <th>socialEngagementType</th>\n",
              "      <th>totals</th>\n",
              "      <th>trafficSource</th>\n",
              "      <th>visitId</th>\n",
              "      <th>visitNumber</th>\n",
              "      <th>visitStartTime</th>\n",
              "    </tr>\n",
              "  </thead>\n",
              "  <tbody>\n",
              "    <tr>\n",
              "      <th>0</th>\n",
              "      <td>Organic Search</td>\n",
              "      <td>20160902</td>\n",
              "      <td>{\"browser\": \"Chrome\", \"browserVersion\": \"not a...</td>\n",
              "      <td>1131660440785968503</td>\n",
              "      <td>{\"continent\": \"Asia\", \"subContinent\": \"Western...</td>\n",
              "      <td>1131660440785968503_1472830385</td>\n",
              "      <td>Not Socially Engaged</td>\n",
              "      <td>{\"visits\": \"1\", \"hits\": \"1\", \"pageviews\": \"1\",...</td>\n",
              "      <td>{\"campaign\": \"(not set)\", \"source\": \"google\", ...</td>\n",
              "      <td>1472830385</td>\n",
              "      <td>1</td>\n",
              "      <td>1472830385</td>\n",
              "    </tr>\n",
              "    <tr>\n",
              "      <th>1</th>\n",
              "      <td>Organic Search</td>\n",
              "      <td>20160902</td>\n",
              "      <td>{\"browser\": \"Firefox\", \"browserVersion\": \"not ...</td>\n",
              "      <td>377306020877927890</td>\n",
              "      <td>{\"continent\": \"Oceania\", \"subContinent\": \"Aust...</td>\n",
              "      <td>377306020877927890_1472880147</td>\n",
              "      <td>Not Socially Engaged</td>\n",
              "      <td>{\"visits\": \"1\", \"hits\": \"1\", \"pageviews\": \"1\",...</td>\n",
              "      <td>{\"campaign\": \"(not set)\", \"source\": \"google\", ...</td>\n",
              "      <td>1472880147</td>\n",
              "      <td>1</td>\n",
              "      <td>1472880147</td>\n",
              "    </tr>\n",
              "    <tr>\n",
              "      <th>2</th>\n",
              "      <td>Organic Search</td>\n",
              "      <td>20160902</td>\n",
              "      <td>{\"browser\": \"Chrome\", \"browserVersion\": \"not a...</td>\n",
              "      <td>3895546263509774583</td>\n",
              "      <td>{\"continent\": \"Europe\", \"subContinent\": \"South...</td>\n",
              "      <td>3895546263509774583_1472865386</td>\n",
              "      <td>Not Socially Engaged</td>\n",
              "      <td>{\"visits\": \"1\", \"hits\": \"1\", \"pageviews\": \"1\",...</td>\n",
              "      <td>{\"campaign\": \"(not set)\", \"source\": \"google\", ...</td>\n",
              "      <td>1472865386</td>\n",
              "      <td>1</td>\n",
              "      <td>1472865386</td>\n",
              "    </tr>\n",
              "    <tr>\n",
              "      <th>3</th>\n",
              "      <td>Organic Search</td>\n",
              "      <td>20160902</td>\n",
              "      <td>{\"browser\": \"UC Browser\", \"browserVersion\": \"n...</td>\n",
              "      <td>4763447161404445595</td>\n",
              "      <td>{\"continent\": \"Asia\", \"subContinent\": \"Southea...</td>\n",
              "      <td>4763447161404445595_1472881213</td>\n",
              "      <td>Not Socially Engaged</td>\n",
              "      <td>{\"visits\": \"1\", \"hits\": \"1\", \"pageviews\": \"1\",...</td>\n",
              "      <td>{\"campaign\": \"(not set)\", \"source\": \"google\", ...</td>\n",
              "      <td>1472881213</td>\n",
              "      <td>1</td>\n",
              "      <td>1472881213</td>\n",
              "    </tr>\n",
              "    <tr>\n",
              "      <th>4</th>\n",
              "      <td>Organic Search</td>\n",
              "      <td>20160902</td>\n",
              "      <td>{\"browser\": \"Chrome\", \"browserVersion\": \"not a...</td>\n",
              "      <td>27294437909732085</td>\n",
              "      <td>{\"continent\": \"Europe\", \"subContinent\": \"North...</td>\n",
              "      <td>27294437909732085_1472822600</td>\n",
              "      <td>Not Socially Engaged</td>\n",
              "      <td>{\"visits\": \"1\", \"hits\": \"1\", \"pageviews\": \"1\",...</td>\n",
              "      <td>{\"campaign\": \"(not set)\", \"source\": \"google\", ...</td>\n",
              "      <td>1472822600</td>\n",
              "      <td>2</td>\n",
              "      <td>1472822600</td>\n",
              "    </tr>\n",
              "  </tbody>\n",
              "</table>\n",
              "</div>"
            ],
            "text/plain": [
              "  channelGrouping      date  ... visitNumber visitStartTime\n",
              "0  Organic Search  20160902  ...           1     1472830385\n",
              "1  Organic Search  20160902  ...           1     1472880147\n",
              "2  Organic Search  20160902  ...           1     1472865386\n",
              "3  Organic Search  20160902  ...           1     1472881213\n",
              "4  Organic Search  20160902  ...           2     1472822600\n",
              "\n",
              "[5 rows x 12 columns]"
            ]
          },
          "metadata": {
            "tags": []
          },
          "execution_count": 5
        }
      ]
    },
    {
      "cell_type": "code",
      "metadata": {
        "colab": {
          "base_uri": "https://localhost:8080/"
        },
        "id": "AazfMz45ulnc",
        "outputId": "0d0fdaa9-cddc-4176-9cf6-8be6a015e1e0"
      },
      "source": [
        "df_train.info()"
      ],
      "execution_count": 6,
      "outputs": [
        {
          "output_type": "stream",
          "text": [
            "<class 'pandas.core.frame.DataFrame'>\n",
            "RangeIndex: 903653 entries, 0 to 903652\n",
            "Data columns (total 12 columns):\n",
            " #   Column                Non-Null Count   Dtype \n",
            "---  ------                --------------   ----- \n",
            " 0   channelGrouping       903653 non-null  object\n",
            " 1   date                  903653 non-null  int64 \n",
            " 2   device                903653 non-null  object\n",
            " 3   fullVisitorId         903653 non-null  object\n",
            " 4   geoNetwork            903653 non-null  object\n",
            " 5   sessionId             903653 non-null  object\n",
            " 6   socialEngagementType  903653 non-null  object\n",
            " 7   totals                903653 non-null  object\n",
            " 8   trafficSource         903653 non-null  object\n",
            " 9   visitId               903653 non-null  int64 \n",
            " 10  visitNumber           903653 non-null  int64 \n",
            " 11  visitStartTime        903653 non-null  int64 \n",
            "dtypes: int64(4), object(8)\n",
            "memory usage: 82.7+ MB\n"
          ],
          "name": "stdout"
        }
      ]
    },
    {
      "cell_type": "code",
      "metadata": {
        "id": "iliWvi1dwwd1"
      },
      "source": [
        "columns = ['device', 'geoNetwork', 'totals', 'trafficSource']\n",
        "def json_read(df):\n",
        "    df = pd.read_csv(df, converters={column: json.loads for column in columns},dtype={'fullVisitorId': 'str'}) \n",
        "    for column in columns: \n",
        "        column_as_df = json_normalize(df[column]) \n",
        "        column_as_df.columns = [f\"{column}.{subcolumn}\" for subcolumn in column_as_df.columns] \n",
        "        df = df.drop(column, axis=1).merge(column_as_df, right_index=True, left_index=True)\n",
        "    return df "
      ],
      "execution_count": 7,
      "outputs": []
    },
    {
      "cell_type": "code",
      "metadata": {
        "id": "DGE4zThfvU0V"
      },
      "source": [
        "df = json_read(\"./train.csv\")"
      ],
      "execution_count": 8,
      "outputs": []
    },
    {
      "cell_type": "code",
      "metadata": {
        "id": "uv4GvGlh2M7E"
      },
      "source": [
        "# df.to_csv('255-df-format.csv')"
      ],
      "execution_count": 9,
      "outputs": []
    },
    {
      "cell_type": "code",
      "metadata": {
        "id": "0r4G17Nj2iFW"
      },
      "source": [
        "# df_file = pd.read_csv('255-df-format.csv')"
      ],
      "execution_count": 10,
      "outputs": []
    },
    {
      "cell_type": "code",
      "metadata": {
        "id": "t_i9X5Z32oc_"
      },
      "source": [
        "# df_file.head()"
      ],
      "execution_count": 11,
      "outputs": []
    },
    {
      "cell_type": "code",
      "metadata": {
        "id": "ImWOsmre2zMs"
      },
      "source": [
        "# df_file.shape"
      ],
      "execution_count": 12,
      "outputs": []
    },
    {
      "cell_type": "code",
      "metadata": {
        "colab": {
          "base_uri": "https://localhost:8080/",
          "height": 609
        },
        "id": "6TkUpfn1wJzG",
        "outputId": "39ccfbfc-f838-4fe8-c119-81d859dcac4f"
      },
      "source": [
        "df # 900000 rows with 55 columns"
      ],
      "execution_count": 13,
      "outputs": [
        {
          "output_type": "execute_result",
          "data": {
            "text/html": [
              "<div>\n",
              "<style scoped>\n",
              "    .dataframe tbody tr th:only-of-type {\n",
              "        vertical-align: middle;\n",
              "    }\n",
              "\n",
              "    .dataframe tbody tr th {\n",
              "        vertical-align: top;\n",
              "    }\n",
              "\n",
              "    .dataframe thead th {\n",
              "        text-align: right;\n",
              "    }\n",
              "</style>\n",
              "<table border=\"1\" class=\"dataframe\">\n",
              "  <thead>\n",
              "    <tr style=\"text-align: right;\">\n",
              "      <th></th>\n",
              "      <th>channelGrouping</th>\n",
              "      <th>date</th>\n",
              "      <th>fullVisitorId</th>\n",
              "      <th>sessionId</th>\n",
              "      <th>socialEngagementType</th>\n",
              "      <th>visitId</th>\n",
              "      <th>visitNumber</th>\n",
              "      <th>visitStartTime</th>\n",
              "      <th>device.browser</th>\n",
              "      <th>device.browserVersion</th>\n",
              "      <th>device.browserSize</th>\n",
              "      <th>device.operatingSystem</th>\n",
              "      <th>device.operatingSystemVersion</th>\n",
              "      <th>device.isMobile</th>\n",
              "      <th>device.mobileDeviceBranding</th>\n",
              "      <th>device.mobileDeviceModel</th>\n",
              "      <th>device.mobileInputSelector</th>\n",
              "      <th>device.mobileDeviceInfo</th>\n",
              "      <th>device.mobileDeviceMarketingName</th>\n",
              "      <th>device.flashVersion</th>\n",
              "      <th>device.language</th>\n",
              "      <th>device.screenColors</th>\n",
              "      <th>device.screenResolution</th>\n",
              "      <th>device.deviceCategory</th>\n",
              "      <th>geoNetwork.continent</th>\n",
              "      <th>geoNetwork.subContinent</th>\n",
              "      <th>geoNetwork.country</th>\n",
              "      <th>geoNetwork.region</th>\n",
              "      <th>geoNetwork.metro</th>\n",
              "      <th>geoNetwork.city</th>\n",
              "      <th>geoNetwork.cityId</th>\n",
              "      <th>geoNetwork.networkDomain</th>\n",
              "      <th>geoNetwork.latitude</th>\n",
              "      <th>geoNetwork.longitude</th>\n",
              "      <th>geoNetwork.networkLocation</th>\n",
              "      <th>totals.visits</th>\n",
              "      <th>totals.hits</th>\n",
              "      <th>totals.pageviews</th>\n",
              "      <th>totals.bounces</th>\n",
              "      <th>totals.newVisits</th>\n",
              "      <th>totals.transactionRevenue</th>\n",
              "      <th>trafficSource.campaign</th>\n",
              "      <th>trafficSource.source</th>\n",
              "      <th>trafficSource.medium</th>\n",
              "      <th>trafficSource.keyword</th>\n",
              "      <th>trafficSource.adwordsClickInfo.criteriaParameters</th>\n",
              "      <th>trafficSource.isTrueDirect</th>\n",
              "      <th>trafficSource.referralPath</th>\n",
              "      <th>trafficSource.adwordsClickInfo.page</th>\n",
              "      <th>trafficSource.adwordsClickInfo.slot</th>\n",
              "      <th>trafficSource.adwordsClickInfo.gclId</th>\n",
              "      <th>trafficSource.adwordsClickInfo.adNetworkType</th>\n",
              "      <th>trafficSource.adwordsClickInfo.isVideoAd</th>\n",
              "      <th>trafficSource.adContent</th>\n",
              "      <th>trafficSource.campaignCode</th>\n",
              "    </tr>\n",
              "  </thead>\n",
              "  <tbody>\n",
              "    <tr>\n",
              "      <th>0</th>\n",
              "      <td>Organic Search</td>\n",
              "      <td>20160902</td>\n",
              "      <td>1131660440785968503</td>\n",
              "      <td>1131660440785968503_1472830385</td>\n",
              "      <td>Not Socially Engaged</td>\n",
              "      <td>1472830385</td>\n",
              "      <td>1</td>\n",
              "      <td>1472830385</td>\n",
              "      <td>Chrome</td>\n",
              "      <td>not available in demo dataset</td>\n",
              "      <td>not available in demo dataset</td>\n",
              "      <td>Windows</td>\n",
              "      <td>not available in demo dataset</td>\n",
              "      <td>False</td>\n",
              "      <td>not available in demo dataset</td>\n",
              "      <td>not available in demo dataset</td>\n",
              "      <td>not available in demo dataset</td>\n",
              "      <td>not available in demo dataset</td>\n",
              "      <td>not available in demo dataset</td>\n",
              "      <td>not available in demo dataset</td>\n",
              "      <td>not available in demo dataset</td>\n",
              "      <td>not available in demo dataset</td>\n",
              "      <td>not available in demo dataset</td>\n",
              "      <td>desktop</td>\n",
              "      <td>Asia</td>\n",
              "      <td>Western Asia</td>\n",
              "      <td>Turkey</td>\n",
              "      <td>Izmir</td>\n",
              "      <td>(not set)</td>\n",
              "      <td>Izmir</td>\n",
              "      <td>not available in demo dataset</td>\n",
              "      <td>ttnet.com.tr</td>\n",
              "      <td>not available in demo dataset</td>\n",
              "      <td>not available in demo dataset</td>\n",
              "      <td>not available in demo dataset</td>\n",
              "      <td>1</td>\n",
              "      <td>1</td>\n",
              "      <td>1</td>\n",
              "      <td>1</td>\n",
              "      <td>1</td>\n",
              "      <td>NaN</td>\n",
              "      <td>(not set)</td>\n",
              "      <td>google</td>\n",
              "      <td>organic</td>\n",
              "      <td>(not provided)</td>\n",
              "      <td>not available in demo dataset</td>\n",
              "      <td>NaN</td>\n",
              "      <td>NaN</td>\n",
              "      <td>NaN</td>\n",
              "      <td>NaN</td>\n",
              "      <td>NaN</td>\n",
              "      <td>NaN</td>\n",
              "      <td>NaN</td>\n",
              "      <td>NaN</td>\n",
              "      <td>NaN</td>\n",
              "    </tr>\n",
              "    <tr>\n",
              "      <th>1</th>\n",
              "      <td>Organic Search</td>\n",
              "      <td>20160902</td>\n",
              "      <td>377306020877927890</td>\n",
              "      <td>377306020877927890_1472880147</td>\n",
              "      <td>Not Socially Engaged</td>\n",
              "      <td>1472880147</td>\n",
              "      <td>1</td>\n",
              "      <td>1472880147</td>\n",
              "      <td>Firefox</td>\n",
              "      <td>not available in demo dataset</td>\n",
              "      <td>not available in demo dataset</td>\n",
              "      <td>Macintosh</td>\n",
              "      <td>not available in demo dataset</td>\n",
              "      <td>False</td>\n",
              "      <td>not available in demo dataset</td>\n",
              "      <td>not available in demo dataset</td>\n",
              "      <td>not available in demo dataset</td>\n",
              "      <td>not available in demo dataset</td>\n",
              "      <td>not available in demo dataset</td>\n",
              "      <td>not available in demo dataset</td>\n",
              "      <td>not available in demo dataset</td>\n",
              "      <td>not available in demo dataset</td>\n",
              "      <td>not available in demo dataset</td>\n",
              "      <td>desktop</td>\n",
              "      <td>Oceania</td>\n",
              "      <td>Australasia</td>\n",
              "      <td>Australia</td>\n",
              "      <td>not available in demo dataset</td>\n",
              "      <td>not available in demo dataset</td>\n",
              "      <td>not available in demo dataset</td>\n",
              "      <td>not available in demo dataset</td>\n",
              "      <td>dodo.net.au</td>\n",
              "      <td>not available in demo dataset</td>\n",
              "      <td>not available in demo dataset</td>\n",
              "      <td>not available in demo dataset</td>\n",
              "      <td>1</td>\n",
              "      <td>1</td>\n",
              "      <td>1</td>\n",
              "      <td>1</td>\n",
              "      <td>1</td>\n",
              "      <td>NaN</td>\n",
              "      <td>(not set)</td>\n",
              "      <td>google</td>\n",
              "      <td>organic</td>\n",
              "      <td>(not provided)</td>\n",
              "      <td>not available in demo dataset</td>\n",
              "      <td>NaN</td>\n",
              "      <td>NaN</td>\n",
              "      <td>NaN</td>\n",
              "      <td>NaN</td>\n",
              "      <td>NaN</td>\n",
              "      <td>NaN</td>\n",
              "      <td>NaN</td>\n",
              "      <td>NaN</td>\n",
              "      <td>NaN</td>\n",
              "    </tr>\n",
              "    <tr>\n",
              "      <th>2</th>\n",
              "      <td>Organic Search</td>\n",
              "      <td>20160902</td>\n",
              "      <td>3895546263509774583</td>\n",
              "      <td>3895546263509774583_1472865386</td>\n",
              "      <td>Not Socially Engaged</td>\n",
              "      <td>1472865386</td>\n",
              "      <td>1</td>\n",
              "      <td>1472865386</td>\n",
              "      <td>Chrome</td>\n",
              "      <td>not available in demo dataset</td>\n",
              "      <td>not available in demo dataset</td>\n",
              "      <td>Windows</td>\n",
              "      <td>not available in demo dataset</td>\n",
              "      <td>False</td>\n",
              "      <td>not available in demo dataset</td>\n",
              "      <td>not available in demo dataset</td>\n",
              "      <td>not available in demo dataset</td>\n",
              "      <td>not available in demo dataset</td>\n",
              "      <td>not available in demo dataset</td>\n",
              "      <td>not available in demo dataset</td>\n",
              "      <td>not available in demo dataset</td>\n",
              "      <td>not available in demo dataset</td>\n",
              "      <td>not available in demo dataset</td>\n",
              "      <td>desktop</td>\n",
              "      <td>Europe</td>\n",
              "      <td>Southern Europe</td>\n",
              "      <td>Spain</td>\n",
              "      <td>Community of Madrid</td>\n",
              "      <td>(not set)</td>\n",
              "      <td>Madrid</td>\n",
              "      <td>not available in demo dataset</td>\n",
              "      <td>unknown.unknown</td>\n",
              "      <td>not available in demo dataset</td>\n",
              "      <td>not available in demo dataset</td>\n",
              "      <td>not available in demo dataset</td>\n",
              "      <td>1</td>\n",
              "      <td>1</td>\n",
              "      <td>1</td>\n",
              "      <td>1</td>\n",
              "      <td>1</td>\n",
              "      <td>NaN</td>\n",
              "      <td>(not set)</td>\n",
              "      <td>google</td>\n",
              "      <td>organic</td>\n",
              "      <td>(not provided)</td>\n",
              "      <td>not available in demo dataset</td>\n",
              "      <td>NaN</td>\n",
              "      <td>NaN</td>\n",
              "      <td>NaN</td>\n",
              "      <td>NaN</td>\n",
              "      <td>NaN</td>\n",
              "      <td>NaN</td>\n",
              "      <td>NaN</td>\n",
              "      <td>NaN</td>\n",
              "      <td>NaN</td>\n",
              "    </tr>\n",
              "    <tr>\n",
              "      <th>3</th>\n",
              "      <td>Organic Search</td>\n",
              "      <td>20160902</td>\n",
              "      <td>4763447161404445595</td>\n",
              "      <td>4763447161404445595_1472881213</td>\n",
              "      <td>Not Socially Engaged</td>\n",
              "      <td>1472881213</td>\n",
              "      <td>1</td>\n",
              "      <td>1472881213</td>\n",
              "      <td>UC Browser</td>\n",
              "      <td>not available in demo dataset</td>\n",
              "      <td>not available in demo dataset</td>\n",
              "      <td>Linux</td>\n",
              "      <td>not available in demo dataset</td>\n",
              "      <td>False</td>\n",
              "      <td>not available in demo dataset</td>\n",
              "      <td>not available in demo dataset</td>\n",
              "      <td>not available in demo dataset</td>\n",
              "      <td>not available in demo dataset</td>\n",
              "      <td>not available in demo dataset</td>\n",
              "      <td>not available in demo dataset</td>\n",
              "      <td>not available in demo dataset</td>\n",
              "      <td>not available in demo dataset</td>\n",
              "      <td>not available in demo dataset</td>\n",
              "      <td>desktop</td>\n",
              "      <td>Asia</td>\n",
              "      <td>Southeast Asia</td>\n",
              "      <td>Indonesia</td>\n",
              "      <td>not available in demo dataset</td>\n",
              "      <td>not available in demo dataset</td>\n",
              "      <td>not available in demo dataset</td>\n",
              "      <td>not available in demo dataset</td>\n",
              "      <td>unknown.unknown</td>\n",
              "      <td>not available in demo dataset</td>\n",
              "      <td>not available in demo dataset</td>\n",
              "      <td>not available in demo dataset</td>\n",
              "      <td>1</td>\n",
              "      <td>1</td>\n",
              "      <td>1</td>\n",
              "      <td>1</td>\n",
              "      <td>1</td>\n",
              "      <td>NaN</td>\n",
              "      <td>(not set)</td>\n",
              "      <td>google</td>\n",
              "      <td>organic</td>\n",
              "      <td>google + online</td>\n",
              "      <td>not available in demo dataset</td>\n",
              "      <td>NaN</td>\n",
              "      <td>NaN</td>\n",
              "      <td>NaN</td>\n",
              "      <td>NaN</td>\n",
              "      <td>NaN</td>\n",
              "      <td>NaN</td>\n",
              "      <td>NaN</td>\n",
              "      <td>NaN</td>\n",
              "      <td>NaN</td>\n",
              "    </tr>\n",
              "    <tr>\n",
              "      <th>4</th>\n",
              "      <td>Organic Search</td>\n",
              "      <td>20160902</td>\n",
              "      <td>27294437909732085</td>\n",
              "      <td>27294437909732085_1472822600</td>\n",
              "      <td>Not Socially Engaged</td>\n",
              "      <td>1472822600</td>\n",
              "      <td>2</td>\n",
              "      <td>1472822600</td>\n",
              "      <td>Chrome</td>\n",
              "      <td>not available in demo dataset</td>\n",
              "      <td>not available in demo dataset</td>\n",
              "      <td>Android</td>\n",
              "      <td>not available in demo dataset</td>\n",
              "      <td>True</td>\n",
              "      <td>not available in demo dataset</td>\n",
              "      <td>not available in demo dataset</td>\n",
              "      <td>not available in demo dataset</td>\n",
              "      <td>not available in demo dataset</td>\n",
              "      <td>not available in demo dataset</td>\n",
              "      <td>not available in demo dataset</td>\n",
              "      <td>not available in demo dataset</td>\n",
              "      <td>not available in demo dataset</td>\n",
              "      <td>not available in demo dataset</td>\n",
              "      <td>mobile</td>\n",
              "      <td>Europe</td>\n",
              "      <td>Northern Europe</td>\n",
              "      <td>United Kingdom</td>\n",
              "      <td>not available in demo dataset</td>\n",
              "      <td>not available in demo dataset</td>\n",
              "      <td>not available in demo dataset</td>\n",
              "      <td>not available in demo dataset</td>\n",
              "      <td>unknown.unknown</td>\n",
              "      <td>not available in demo dataset</td>\n",
              "      <td>not available in demo dataset</td>\n",
              "      <td>not available in demo dataset</td>\n",
              "      <td>1</td>\n",
              "      <td>1</td>\n",
              "      <td>1</td>\n",
              "      <td>1</td>\n",
              "      <td>NaN</td>\n",
              "      <td>NaN</td>\n",
              "      <td>(not set)</td>\n",
              "      <td>google</td>\n",
              "      <td>organic</td>\n",
              "      <td>(not provided)</td>\n",
              "      <td>not available in demo dataset</td>\n",
              "      <td>True</td>\n",
              "      <td>NaN</td>\n",
              "      <td>NaN</td>\n",
              "      <td>NaN</td>\n",
              "      <td>NaN</td>\n",
              "      <td>NaN</td>\n",
              "      <td>NaN</td>\n",
              "      <td>NaN</td>\n",
              "      <td>NaN</td>\n",
              "    </tr>\n",
              "    <tr>\n",
              "      <th>...</th>\n",
              "      <td>...</td>\n",
              "      <td>...</td>\n",
              "      <td>...</td>\n",
              "      <td>...</td>\n",
              "      <td>...</td>\n",
              "      <td>...</td>\n",
              "      <td>...</td>\n",
              "      <td>...</td>\n",
              "      <td>...</td>\n",
              "      <td>...</td>\n",
              "      <td>...</td>\n",
              "      <td>...</td>\n",
              "      <td>...</td>\n",
              "      <td>...</td>\n",
              "      <td>...</td>\n",
              "      <td>...</td>\n",
              "      <td>...</td>\n",
              "      <td>...</td>\n",
              "      <td>...</td>\n",
              "      <td>...</td>\n",
              "      <td>...</td>\n",
              "      <td>...</td>\n",
              "      <td>...</td>\n",
              "      <td>...</td>\n",
              "      <td>...</td>\n",
              "      <td>...</td>\n",
              "      <td>...</td>\n",
              "      <td>...</td>\n",
              "      <td>...</td>\n",
              "      <td>...</td>\n",
              "      <td>...</td>\n",
              "      <td>...</td>\n",
              "      <td>...</td>\n",
              "      <td>...</td>\n",
              "      <td>...</td>\n",
              "      <td>...</td>\n",
              "      <td>...</td>\n",
              "      <td>...</td>\n",
              "      <td>...</td>\n",
              "      <td>...</td>\n",
              "      <td>...</td>\n",
              "      <td>...</td>\n",
              "      <td>...</td>\n",
              "      <td>...</td>\n",
              "      <td>...</td>\n",
              "      <td>...</td>\n",
              "      <td>...</td>\n",
              "      <td>...</td>\n",
              "      <td>...</td>\n",
              "      <td>...</td>\n",
              "      <td>...</td>\n",
              "      <td>...</td>\n",
              "      <td>...</td>\n",
              "      <td>...</td>\n",
              "      <td>...</td>\n",
              "    </tr>\n",
              "    <tr>\n",
              "      <th>903648</th>\n",
              "      <td>Social</td>\n",
              "      <td>20170104</td>\n",
              "      <td>5123779100307500332</td>\n",
              "      <td>5123779100307500332_1483554750</td>\n",
              "      <td>Not Socially Engaged</td>\n",
              "      <td>1483554750</td>\n",
              "      <td>1</td>\n",
              "      <td>1483554750</td>\n",
              "      <td>Chrome</td>\n",
              "      <td>not available in demo dataset</td>\n",
              "      <td>not available in demo dataset</td>\n",
              "      <td>Windows</td>\n",
              "      <td>not available in demo dataset</td>\n",
              "      <td>False</td>\n",
              "      <td>not available in demo dataset</td>\n",
              "      <td>not available in demo dataset</td>\n",
              "      <td>not available in demo dataset</td>\n",
              "      <td>not available in demo dataset</td>\n",
              "      <td>not available in demo dataset</td>\n",
              "      <td>not available in demo dataset</td>\n",
              "      <td>not available in demo dataset</td>\n",
              "      <td>not available in demo dataset</td>\n",
              "      <td>not available in demo dataset</td>\n",
              "      <td>desktop</td>\n",
              "      <td>Americas</td>\n",
              "      <td>Caribbean</td>\n",
              "      <td>Puerto Rico</td>\n",
              "      <td>not available in demo dataset</td>\n",
              "      <td>not available in demo dataset</td>\n",
              "      <td>not available in demo dataset</td>\n",
              "      <td>not available in demo dataset</td>\n",
              "      <td>prtc.net</td>\n",
              "      <td>not available in demo dataset</td>\n",
              "      <td>not available in demo dataset</td>\n",
              "      <td>not available in demo dataset</td>\n",
              "      <td>1</td>\n",
              "      <td>17</td>\n",
              "      <td>15</td>\n",
              "      <td>NaN</td>\n",
              "      <td>1</td>\n",
              "      <td>NaN</td>\n",
              "      <td>(not set)</td>\n",
              "      <td>youtube.com</td>\n",
              "      <td>referral</td>\n",
              "      <td>NaN</td>\n",
              "      <td>not available in demo dataset</td>\n",
              "      <td>NaN</td>\n",
              "      <td>/yt/about/</td>\n",
              "      <td>NaN</td>\n",
              "      <td>NaN</td>\n",
              "      <td>NaN</td>\n",
              "      <td>NaN</td>\n",
              "      <td>NaN</td>\n",
              "      <td>NaN</td>\n",
              "      <td>NaN</td>\n",
              "    </tr>\n",
              "    <tr>\n",
              "      <th>903649</th>\n",
              "      <td>Social</td>\n",
              "      <td>20170104</td>\n",
              "      <td>7231728964973959842</td>\n",
              "      <td>7231728964973959842_1483543798</td>\n",
              "      <td>Not Socially Engaged</td>\n",
              "      <td>1483543798</td>\n",
              "      <td>1</td>\n",
              "      <td>1483543798</td>\n",
              "      <td>Chrome</td>\n",
              "      <td>not available in demo dataset</td>\n",
              "      <td>not available in demo dataset</td>\n",
              "      <td>Android</td>\n",
              "      <td>not available in demo dataset</td>\n",
              "      <td>True</td>\n",
              "      <td>not available in demo dataset</td>\n",
              "      <td>not available in demo dataset</td>\n",
              "      <td>not available in demo dataset</td>\n",
              "      <td>not available in demo dataset</td>\n",
              "      <td>not available in demo dataset</td>\n",
              "      <td>not available in demo dataset</td>\n",
              "      <td>not available in demo dataset</td>\n",
              "      <td>not available in demo dataset</td>\n",
              "      <td>not available in demo dataset</td>\n",
              "      <td>mobile</td>\n",
              "      <td>Asia</td>\n",
              "      <td>Southern Asia</td>\n",
              "      <td>Sri Lanka</td>\n",
              "      <td>not available in demo dataset</td>\n",
              "      <td>not available in demo dataset</td>\n",
              "      <td>not available in demo dataset</td>\n",
              "      <td>not available in demo dataset</td>\n",
              "      <td>unknown.unknown</td>\n",
              "      <td>not available in demo dataset</td>\n",
              "      <td>not available in demo dataset</td>\n",
              "      <td>not available in demo dataset</td>\n",
              "      <td>1</td>\n",
              "      <td>18</td>\n",
              "      <td>13</td>\n",
              "      <td>NaN</td>\n",
              "      <td>1</td>\n",
              "      <td>NaN</td>\n",
              "      <td>(not set)</td>\n",
              "      <td>youtube.com</td>\n",
              "      <td>referral</td>\n",
              "      <td>NaN</td>\n",
              "      <td>not available in demo dataset</td>\n",
              "      <td>NaN</td>\n",
              "      <td>/yt/about/</td>\n",
              "      <td>NaN</td>\n",
              "      <td>NaN</td>\n",
              "      <td>NaN</td>\n",
              "      <td>NaN</td>\n",
              "      <td>NaN</td>\n",
              "      <td>NaN</td>\n",
              "      <td>NaN</td>\n",
              "    </tr>\n",
              "    <tr>\n",
              "      <th>903650</th>\n",
              "      <td>Social</td>\n",
              "      <td>20170104</td>\n",
              "      <td>5744576632396406899</td>\n",
              "      <td>5744576632396406899_1483526434</td>\n",
              "      <td>Not Socially Engaged</td>\n",
              "      <td>1483526434</td>\n",
              "      <td>1</td>\n",
              "      <td>1483526434</td>\n",
              "      <td>Android Webview</td>\n",
              "      <td>not available in demo dataset</td>\n",
              "      <td>not available in demo dataset</td>\n",
              "      <td>Android</td>\n",
              "      <td>not available in demo dataset</td>\n",
              "      <td>True</td>\n",
              "      <td>not available in demo dataset</td>\n",
              "      <td>not available in demo dataset</td>\n",
              "      <td>not available in demo dataset</td>\n",
              "      <td>not available in demo dataset</td>\n",
              "      <td>not available in demo dataset</td>\n",
              "      <td>not available in demo dataset</td>\n",
              "      <td>not available in demo dataset</td>\n",
              "      <td>not available in demo dataset</td>\n",
              "      <td>not available in demo dataset</td>\n",
              "      <td>mobile</td>\n",
              "      <td>Asia</td>\n",
              "      <td>Eastern Asia</td>\n",
              "      <td>South Korea</td>\n",
              "      <td>Seoul</td>\n",
              "      <td>(not set)</td>\n",
              "      <td>Seoul</td>\n",
              "      <td>not available in demo dataset</td>\n",
              "      <td>unknown.unknown</td>\n",
              "      <td>not available in demo dataset</td>\n",
              "      <td>not available in demo dataset</td>\n",
              "      <td>not available in demo dataset</td>\n",
              "      <td>1</td>\n",
              "      <td>24</td>\n",
              "      <td>21</td>\n",
              "      <td>NaN</td>\n",
              "      <td>1</td>\n",
              "      <td>NaN</td>\n",
              "      <td>(not set)</td>\n",
              "      <td>youtube.com</td>\n",
              "      <td>referral</td>\n",
              "      <td>NaN</td>\n",
              "      <td>not available in demo dataset</td>\n",
              "      <td>NaN</td>\n",
              "      <td>/yt/about/ko/</td>\n",
              "      <td>NaN</td>\n",
              "      <td>NaN</td>\n",
              "      <td>NaN</td>\n",
              "      <td>NaN</td>\n",
              "      <td>NaN</td>\n",
              "      <td>NaN</td>\n",
              "      <td>NaN</td>\n",
              "    </tr>\n",
              "    <tr>\n",
              "      <th>903651</th>\n",
              "      <td>Social</td>\n",
              "      <td>20170104</td>\n",
              "      <td>2709355455991750775</td>\n",
              "      <td>2709355455991750775_1483592857</td>\n",
              "      <td>Not Socially Engaged</td>\n",
              "      <td>1483592857</td>\n",
              "      <td>1</td>\n",
              "      <td>1483592864</td>\n",
              "      <td>Chrome</td>\n",
              "      <td>not available in demo dataset</td>\n",
              "      <td>not available in demo dataset</td>\n",
              "      <td>Windows</td>\n",
              "      <td>not available in demo dataset</td>\n",
              "      <td>False</td>\n",
              "      <td>not available in demo dataset</td>\n",
              "      <td>not available in demo dataset</td>\n",
              "      <td>not available in demo dataset</td>\n",
              "      <td>not available in demo dataset</td>\n",
              "      <td>not available in demo dataset</td>\n",
              "      <td>not available in demo dataset</td>\n",
              "      <td>not available in demo dataset</td>\n",
              "      <td>not available in demo dataset</td>\n",
              "      <td>not available in demo dataset</td>\n",
              "      <td>desktop</td>\n",
              "      <td>Asia</td>\n",
              "      <td>Southeast Asia</td>\n",
              "      <td>Indonesia</td>\n",
              "      <td>not available in demo dataset</td>\n",
              "      <td>not available in demo dataset</td>\n",
              "      <td>not available in demo dataset</td>\n",
              "      <td>not available in demo dataset</td>\n",
              "      <td>unknown.unknown</td>\n",
              "      <td>not available in demo dataset</td>\n",
              "      <td>not available in demo dataset</td>\n",
              "      <td>not available in demo dataset</td>\n",
              "      <td>1</td>\n",
              "      <td>24</td>\n",
              "      <td>22</td>\n",
              "      <td>NaN</td>\n",
              "      <td>1</td>\n",
              "      <td>NaN</td>\n",
              "      <td>(not set)</td>\n",
              "      <td>facebook.com</td>\n",
              "      <td>referral</td>\n",
              "      <td>NaN</td>\n",
              "      <td>not available in demo dataset</td>\n",
              "      <td>NaN</td>\n",
              "      <td>/l.php</td>\n",
              "      <td>NaN</td>\n",
              "      <td>NaN</td>\n",
              "      <td>NaN</td>\n",
              "      <td>NaN</td>\n",
              "      <td>NaN</td>\n",
              "      <td>NaN</td>\n",
              "      <td>NaN</td>\n",
              "    </tr>\n",
              "    <tr>\n",
              "      <th>903652</th>\n",
              "      <td>Social</td>\n",
              "      <td>20170104</td>\n",
              "      <td>0814900163617805053</td>\n",
              "      <td>0814900163617805053_1483574474</td>\n",
              "      <td>Not Socially Engaged</td>\n",
              "      <td>1483574474</td>\n",
              "      <td>1</td>\n",
              "      <td>1483574474</td>\n",
              "      <td>Chrome</td>\n",
              "      <td>not available in demo dataset</td>\n",
              "      <td>not available in demo dataset</td>\n",
              "      <td>Android</td>\n",
              "      <td>not available in demo dataset</td>\n",
              "      <td>True</td>\n",
              "      <td>not available in demo dataset</td>\n",
              "      <td>not available in demo dataset</td>\n",
              "      <td>not available in demo dataset</td>\n",
              "      <td>not available in demo dataset</td>\n",
              "      <td>not available in demo dataset</td>\n",
              "      <td>not available in demo dataset</td>\n",
              "      <td>not available in demo dataset</td>\n",
              "      <td>not available in demo dataset</td>\n",
              "      <td>not available in demo dataset</td>\n",
              "      <td>mobile</td>\n",
              "      <td>Americas</td>\n",
              "      <td>Central America</td>\n",
              "      <td>Mexico</td>\n",
              "      <td>not available in demo dataset</td>\n",
              "      <td>not available in demo dataset</td>\n",
              "      <td>not available in demo dataset</td>\n",
              "      <td>not available in demo dataset</td>\n",
              "      <td>cybercable.net.mx</td>\n",
              "      <td>not available in demo dataset</td>\n",
              "      <td>not available in demo dataset</td>\n",
              "      <td>not available in demo dataset</td>\n",
              "      <td>1</td>\n",
              "      <td>31</td>\n",
              "      <td>31</td>\n",
              "      <td>NaN</td>\n",
              "      <td>1</td>\n",
              "      <td>NaN</td>\n",
              "      <td>(not set)</td>\n",
              "      <td>youtube.com</td>\n",
              "      <td>referral</td>\n",
              "      <td>NaN</td>\n",
              "      <td>not available in demo dataset</td>\n",
              "      <td>NaN</td>\n",
              "      <td>/yt/about/es-419/</td>\n",
              "      <td>NaN</td>\n",
              "      <td>NaN</td>\n",
              "      <td>NaN</td>\n",
              "      <td>NaN</td>\n",
              "      <td>NaN</td>\n",
              "      <td>NaN</td>\n",
              "      <td>NaN</td>\n",
              "    </tr>\n",
              "  </tbody>\n",
              "</table>\n",
              "<p>903653 rows × 55 columns</p>\n",
              "</div>"
            ],
            "text/plain": [
              "       channelGrouping  ...  trafficSource.campaignCode\n",
              "0       Organic Search  ...                         NaN\n",
              "1       Organic Search  ...                         NaN\n",
              "2       Organic Search  ...                         NaN\n",
              "3       Organic Search  ...                         NaN\n",
              "4       Organic Search  ...                         NaN\n",
              "...                ...  ...                         ...\n",
              "903648          Social  ...                         NaN\n",
              "903649          Social  ...                         NaN\n",
              "903650          Social  ...                         NaN\n",
              "903651          Social  ...                         NaN\n",
              "903652          Social  ...                         NaN\n",
              "\n",
              "[903653 rows x 55 columns]"
            ]
          },
          "metadata": {
            "tags": []
          },
          "execution_count": 13
        }
      ]
    },
    {
      "cell_type": "code",
      "metadata": {
        "colab": {
          "base_uri": "https://localhost:8080/"
        },
        "id": "uKCDX4lHz7Ak",
        "outputId": "5054e0f6-a15d-4862-ce32-684f4772b370"
      },
      "source": [
        "df.isnull().sum()"
      ],
      "execution_count": 14,
      "outputs": [
        {
          "output_type": "execute_result",
          "data": {
            "text/plain": [
              "channelGrouping                                           0\n",
              "date                                                      0\n",
              "fullVisitorId                                             0\n",
              "sessionId                                                 0\n",
              "socialEngagementType                                      0\n",
              "visitId                                                   0\n",
              "visitNumber                                               0\n",
              "visitStartTime                                            0\n",
              "device.browser                                            0\n",
              "device.browserVersion                                     0\n",
              "device.browserSize                                        0\n",
              "device.operatingSystem                                    0\n",
              "device.operatingSystemVersion                             0\n",
              "device.isMobile                                           0\n",
              "device.mobileDeviceBranding                               0\n",
              "device.mobileDeviceModel                                  0\n",
              "device.mobileInputSelector                                0\n",
              "device.mobileDeviceInfo                                   0\n",
              "device.mobileDeviceMarketingName                          0\n",
              "device.flashVersion                                       0\n",
              "device.language                                           0\n",
              "device.screenColors                                       0\n",
              "device.screenResolution                                   0\n",
              "device.deviceCategory                                     0\n",
              "geoNetwork.continent                                      0\n",
              "geoNetwork.subContinent                                   0\n",
              "geoNetwork.country                                        0\n",
              "geoNetwork.region                                         0\n",
              "geoNetwork.metro                                          0\n",
              "geoNetwork.city                                           0\n",
              "geoNetwork.cityId                                         0\n",
              "geoNetwork.networkDomain                                  0\n",
              "geoNetwork.latitude                                       0\n",
              "geoNetwork.longitude                                      0\n",
              "geoNetwork.networkLocation                                0\n",
              "totals.visits                                             0\n",
              "totals.hits                                               0\n",
              "totals.pageviews                                        100\n",
              "totals.bounces                                       453023\n",
              "totals.newVisits                                     200593\n",
              "totals.transactionRevenue                            892138\n",
              "trafficSource.campaign                                    0\n",
              "trafficSource.source                                      0\n",
              "trafficSource.medium                                      0\n",
              "trafficSource.keyword                                502929\n",
              "trafficSource.adwordsClickInfo.criteriaParameters         0\n",
              "trafficSource.isTrueDirect                           629648\n",
              "trafficSource.referralPath                           572712\n",
              "trafficSource.adwordsClickInfo.page                  882193\n",
              "trafficSource.adwordsClickInfo.slot                  882193\n",
              "trafficSource.adwordsClickInfo.gclId                 882092\n",
              "trafficSource.adwordsClickInfo.adNetworkType         882193\n",
              "trafficSource.adwordsClickInfo.isVideoAd             882193\n",
              "trafficSource.adContent                              892707\n",
              "trafficSource.campaignCode                           903652\n",
              "dtype: int64"
            ]
          },
          "metadata": {
            "tags": []
          },
          "execution_count": 14
        }
      ]
    },
    {
      "cell_type": "code",
      "metadata": {
        "colab": {
          "base_uri": "https://localhost:8080/"
        },
        "id": "Djw2Rbp6Ajsq",
        "outputId": "77a95162-4c00-4f1f-f736-3e15e122d055"
      },
      "source": [
        "df.info()"
      ],
      "execution_count": 15,
      "outputs": [
        {
          "output_type": "stream",
          "text": [
            "<class 'pandas.core.frame.DataFrame'>\n",
            "RangeIndex: 903653 entries, 0 to 903652\n",
            "Data columns (total 55 columns):\n",
            " #   Column                                             Non-Null Count   Dtype \n",
            "---  ------                                             --------------   ----- \n",
            " 0   channelGrouping                                    903653 non-null  object\n",
            " 1   date                                               903653 non-null  int64 \n",
            " 2   fullVisitorId                                      903653 non-null  object\n",
            " 3   sessionId                                          903653 non-null  object\n",
            " 4   socialEngagementType                               903653 non-null  object\n",
            " 5   visitId                                            903653 non-null  int64 \n",
            " 6   visitNumber                                        903653 non-null  int64 \n",
            " 7   visitStartTime                                     903653 non-null  int64 \n",
            " 8   device.browser                                     903653 non-null  object\n",
            " 9   device.browserVersion                              903653 non-null  object\n",
            " 10  device.browserSize                                 903653 non-null  object\n",
            " 11  device.operatingSystem                             903653 non-null  object\n",
            " 12  device.operatingSystemVersion                      903653 non-null  object\n",
            " 13  device.isMobile                                    903653 non-null  bool  \n",
            " 14  device.mobileDeviceBranding                        903653 non-null  object\n",
            " 15  device.mobileDeviceModel                           903653 non-null  object\n",
            " 16  device.mobileInputSelector                         903653 non-null  object\n",
            " 17  device.mobileDeviceInfo                            903653 non-null  object\n",
            " 18  device.mobileDeviceMarketingName                   903653 non-null  object\n",
            " 19  device.flashVersion                                903653 non-null  object\n",
            " 20  device.language                                    903653 non-null  object\n",
            " 21  device.screenColors                                903653 non-null  object\n",
            " 22  device.screenResolution                            903653 non-null  object\n",
            " 23  device.deviceCategory                              903653 non-null  object\n",
            " 24  geoNetwork.continent                               903653 non-null  object\n",
            " 25  geoNetwork.subContinent                            903653 non-null  object\n",
            " 26  geoNetwork.country                                 903653 non-null  object\n",
            " 27  geoNetwork.region                                  903653 non-null  object\n",
            " 28  geoNetwork.metro                                   903653 non-null  object\n",
            " 29  geoNetwork.city                                    903653 non-null  object\n",
            " 30  geoNetwork.cityId                                  903653 non-null  object\n",
            " 31  geoNetwork.networkDomain                           903653 non-null  object\n",
            " 32  geoNetwork.latitude                                903653 non-null  object\n",
            " 33  geoNetwork.longitude                               903653 non-null  object\n",
            " 34  geoNetwork.networkLocation                         903653 non-null  object\n",
            " 35  totals.visits                                      903653 non-null  object\n",
            " 36  totals.hits                                        903653 non-null  object\n",
            " 37  totals.pageviews                                   903553 non-null  object\n",
            " 38  totals.bounces                                     450630 non-null  object\n",
            " 39  totals.newVisits                                   703060 non-null  object\n",
            " 40  totals.transactionRevenue                          11515 non-null   object\n",
            " 41  trafficSource.campaign                             903653 non-null  object\n",
            " 42  trafficSource.source                               903653 non-null  object\n",
            " 43  trafficSource.medium                               903653 non-null  object\n",
            " 44  trafficSource.keyword                              400724 non-null  object\n",
            " 45  trafficSource.adwordsClickInfo.criteriaParameters  903653 non-null  object\n",
            " 46  trafficSource.isTrueDirect                         274005 non-null  object\n",
            " 47  trafficSource.referralPath                         330941 non-null  object\n",
            " 48  trafficSource.adwordsClickInfo.page                21460 non-null   object\n",
            " 49  trafficSource.adwordsClickInfo.slot                21460 non-null   object\n",
            " 50  trafficSource.adwordsClickInfo.gclId               21561 non-null   object\n",
            " 51  trafficSource.adwordsClickInfo.adNetworkType       21460 non-null   object\n",
            " 52  trafficSource.adwordsClickInfo.isVideoAd           21460 non-null   object\n",
            " 53  trafficSource.adContent                            10946 non-null   object\n",
            " 54  trafficSource.campaignCode                         1 non-null       object\n",
            "dtypes: bool(1), int64(4), object(50)\n",
            "memory usage: 373.2+ MB\n"
          ],
          "name": "stdout"
        }
      ]
    },
    {
      "cell_type": "code",
      "metadata": {
        "colab": {
          "base_uri": "https://localhost:8080/"
        },
        "id": "3enxD5teAvOP",
        "outputId": "172bde57-6a56-4633-fcb5-41d1b7061fca"
      },
      "source": [
        "df['totals.pageviews'].mode()"
      ],
      "execution_count": 16,
      "outputs": [
        {
          "output_type": "execute_result",
          "data": {
            "text/plain": [
              "0    1\n",
              "dtype: object"
            ]
          },
          "metadata": {
            "tags": []
          },
          "execution_count": 16
        }
      ]
    },
    {
      "cell_type": "code",
      "metadata": {
        "colab": {
          "base_uri": "https://localhost:8080/"
        },
        "id": "9yt_hNRwxezb",
        "outputId": "ac585c95-ce9a-41d4-b101-b4ead974a291"
      },
      "source": [
        "columns_to_remove = [col for col in df.columns if df[col].nunique() == 1]\n",
        "print(\"No. of variables with unique value: {}\".format(len(columns_to_remove)))"
      ],
      "execution_count": 17,
      "outputs": [
        {
          "output_type": "stream",
          "text": [
            "No. of variables with unique value: 24\n"
          ],
          "name": "stdout"
        }
      ]
    },
    {
      "cell_type": "code",
      "metadata": {
        "colab": {
          "base_uri": "https://localhost:8080/"
        },
        "id": "eXH7LxlSxflQ",
        "outputId": "1d97b3e9-bc64-49b9-ffc8-659652d6bb2d"
      },
      "source": [
        "columns_to_remove"
      ],
      "execution_count": 18,
      "outputs": [
        {
          "output_type": "execute_result",
          "data": {
            "text/plain": [
              "['socialEngagementType',\n",
              " 'device.browserVersion',\n",
              " 'device.browserSize',\n",
              " 'device.operatingSystemVersion',\n",
              " 'device.mobileDeviceBranding',\n",
              " 'device.mobileDeviceModel',\n",
              " 'device.mobileInputSelector',\n",
              " 'device.mobileDeviceInfo',\n",
              " 'device.mobileDeviceMarketingName',\n",
              " 'device.flashVersion',\n",
              " 'device.language',\n",
              " 'device.screenColors',\n",
              " 'device.screenResolution',\n",
              " 'geoNetwork.cityId',\n",
              " 'geoNetwork.latitude',\n",
              " 'geoNetwork.longitude',\n",
              " 'geoNetwork.networkLocation',\n",
              " 'totals.visits',\n",
              " 'totals.bounces',\n",
              " 'totals.newVisits',\n",
              " 'trafficSource.adwordsClickInfo.criteriaParameters',\n",
              " 'trafficSource.isTrueDirect',\n",
              " 'trafficSource.adwordsClickInfo.isVideoAd',\n",
              " 'trafficSource.campaignCode']"
            ]
          },
          "metadata": {
            "tags": []
          },
          "execution_count": 18
        }
      ]
    },
    {
      "cell_type": "code",
      "metadata": {
        "id": "z1iyhPGCxibC",
        "colab": {
          "base_uri": "https://localhost:8080/"
        },
        "outputId": "65fe60df-aab9-4adc-a818-829d306e5a3f"
      },
      "source": [
        "for col in columns_to_remove:\n",
        "    if set(['not available in demo dataset']) ==  set(df[col].unique()): continue\n",
        "    print(col, df[col].dtypes, df[col].unique())"
      ],
      "execution_count": 19,
      "outputs": [
        {
          "output_type": "stream",
          "text": [
            "socialEngagementType object ['Not Socially Engaged']\n",
            "totals.visits object ['1']\n",
            "totals.bounces object ['1' nan]\n",
            "totals.newVisits object ['1' nan]\n",
            "trafficSource.isTrueDirect object [nan True]\n",
            "trafficSource.adwordsClickInfo.isVideoAd object [nan False]\n",
            "trafficSource.campaignCode object [nan '11251kjhkvahf']\n"
          ],
          "name": "stdout"
        }
      ]
    },
    {
      "cell_type": "code",
      "metadata": {
        "id": "13a511_cxl8b"
      },
      "source": [
        "# Creating another copy for filling missing values"
      ],
      "execution_count": 20,
      "outputs": []
    },
    {
      "cell_type": "code",
      "metadata": {
        "id": "k6wXlZtm_p_l"
      },
      "source": [
        "df_1 = df.copy()"
      ],
      "execution_count": 21,
      "outputs": []
    },
    {
      "cell_type": "code",
      "metadata": {
        "colab": {
          "base_uri": "https://localhost:8080/",
          "height": 309
        },
        "id": "VQys5nUc_uyY",
        "outputId": "c74913ea-9a56-49f3-a89d-d69976d2bb68"
      },
      "source": [
        "df_1.head()"
      ],
      "execution_count": 22,
      "outputs": [
        {
          "output_type": "execute_result",
          "data": {
            "text/html": [
              "<div>\n",
              "<style scoped>\n",
              "    .dataframe tbody tr th:only-of-type {\n",
              "        vertical-align: middle;\n",
              "    }\n",
              "\n",
              "    .dataframe tbody tr th {\n",
              "        vertical-align: top;\n",
              "    }\n",
              "\n",
              "    .dataframe thead th {\n",
              "        text-align: right;\n",
              "    }\n",
              "</style>\n",
              "<table border=\"1\" class=\"dataframe\">\n",
              "  <thead>\n",
              "    <tr style=\"text-align: right;\">\n",
              "      <th></th>\n",
              "      <th>channelGrouping</th>\n",
              "      <th>date</th>\n",
              "      <th>fullVisitorId</th>\n",
              "      <th>sessionId</th>\n",
              "      <th>socialEngagementType</th>\n",
              "      <th>visitId</th>\n",
              "      <th>visitNumber</th>\n",
              "      <th>visitStartTime</th>\n",
              "      <th>device.browser</th>\n",
              "      <th>device.browserVersion</th>\n",
              "      <th>device.browserSize</th>\n",
              "      <th>device.operatingSystem</th>\n",
              "      <th>device.operatingSystemVersion</th>\n",
              "      <th>device.isMobile</th>\n",
              "      <th>device.mobileDeviceBranding</th>\n",
              "      <th>device.mobileDeviceModel</th>\n",
              "      <th>device.mobileInputSelector</th>\n",
              "      <th>device.mobileDeviceInfo</th>\n",
              "      <th>device.mobileDeviceMarketingName</th>\n",
              "      <th>device.flashVersion</th>\n",
              "      <th>device.language</th>\n",
              "      <th>device.screenColors</th>\n",
              "      <th>device.screenResolution</th>\n",
              "      <th>device.deviceCategory</th>\n",
              "      <th>geoNetwork.continent</th>\n",
              "      <th>geoNetwork.subContinent</th>\n",
              "      <th>geoNetwork.country</th>\n",
              "      <th>geoNetwork.region</th>\n",
              "      <th>geoNetwork.metro</th>\n",
              "      <th>geoNetwork.city</th>\n",
              "      <th>geoNetwork.cityId</th>\n",
              "      <th>geoNetwork.networkDomain</th>\n",
              "      <th>geoNetwork.latitude</th>\n",
              "      <th>geoNetwork.longitude</th>\n",
              "      <th>geoNetwork.networkLocation</th>\n",
              "      <th>totals.visits</th>\n",
              "      <th>totals.hits</th>\n",
              "      <th>totals.pageviews</th>\n",
              "      <th>totals.bounces</th>\n",
              "      <th>totals.newVisits</th>\n",
              "      <th>totals.transactionRevenue</th>\n",
              "      <th>trafficSource.campaign</th>\n",
              "      <th>trafficSource.source</th>\n",
              "      <th>trafficSource.medium</th>\n",
              "      <th>trafficSource.keyword</th>\n",
              "      <th>trafficSource.adwordsClickInfo.criteriaParameters</th>\n",
              "      <th>trafficSource.isTrueDirect</th>\n",
              "      <th>trafficSource.referralPath</th>\n",
              "      <th>trafficSource.adwordsClickInfo.page</th>\n",
              "      <th>trafficSource.adwordsClickInfo.slot</th>\n",
              "      <th>trafficSource.adwordsClickInfo.gclId</th>\n",
              "      <th>trafficSource.adwordsClickInfo.adNetworkType</th>\n",
              "      <th>trafficSource.adwordsClickInfo.isVideoAd</th>\n",
              "      <th>trafficSource.adContent</th>\n",
              "      <th>trafficSource.campaignCode</th>\n",
              "    </tr>\n",
              "  </thead>\n",
              "  <tbody>\n",
              "    <tr>\n",
              "      <th>0</th>\n",
              "      <td>Organic Search</td>\n",
              "      <td>20160902</td>\n",
              "      <td>1131660440785968503</td>\n",
              "      <td>1131660440785968503_1472830385</td>\n",
              "      <td>Not Socially Engaged</td>\n",
              "      <td>1472830385</td>\n",
              "      <td>1</td>\n",
              "      <td>1472830385</td>\n",
              "      <td>Chrome</td>\n",
              "      <td>not available in demo dataset</td>\n",
              "      <td>not available in demo dataset</td>\n",
              "      <td>Windows</td>\n",
              "      <td>not available in demo dataset</td>\n",
              "      <td>False</td>\n",
              "      <td>not available in demo dataset</td>\n",
              "      <td>not available in demo dataset</td>\n",
              "      <td>not available in demo dataset</td>\n",
              "      <td>not available in demo dataset</td>\n",
              "      <td>not available in demo dataset</td>\n",
              "      <td>not available in demo dataset</td>\n",
              "      <td>not available in demo dataset</td>\n",
              "      <td>not available in demo dataset</td>\n",
              "      <td>not available in demo dataset</td>\n",
              "      <td>desktop</td>\n",
              "      <td>Asia</td>\n",
              "      <td>Western Asia</td>\n",
              "      <td>Turkey</td>\n",
              "      <td>Izmir</td>\n",
              "      <td>(not set)</td>\n",
              "      <td>Izmir</td>\n",
              "      <td>not available in demo dataset</td>\n",
              "      <td>ttnet.com.tr</td>\n",
              "      <td>not available in demo dataset</td>\n",
              "      <td>not available in demo dataset</td>\n",
              "      <td>not available in demo dataset</td>\n",
              "      <td>1</td>\n",
              "      <td>1</td>\n",
              "      <td>1</td>\n",
              "      <td>1</td>\n",
              "      <td>1</td>\n",
              "      <td>NaN</td>\n",
              "      <td>(not set)</td>\n",
              "      <td>google</td>\n",
              "      <td>organic</td>\n",
              "      <td>(not provided)</td>\n",
              "      <td>not available in demo dataset</td>\n",
              "      <td>NaN</td>\n",
              "      <td>NaN</td>\n",
              "      <td>NaN</td>\n",
              "      <td>NaN</td>\n",
              "      <td>NaN</td>\n",
              "      <td>NaN</td>\n",
              "      <td>NaN</td>\n",
              "      <td>NaN</td>\n",
              "      <td>NaN</td>\n",
              "    </tr>\n",
              "    <tr>\n",
              "      <th>1</th>\n",
              "      <td>Organic Search</td>\n",
              "      <td>20160902</td>\n",
              "      <td>377306020877927890</td>\n",
              "      <td>377306020877927890_1472880147</td>\n",
              "      <td>Not Socially Engaged</td>\n",
              "      <td>1472880147</td>\n",
              "      <td>1</td>\n",
              "      <td>1472880147</td>\n",
              "      <td>Firefox</td>\n",
              "      <td>not available in demo dataset</td>\n",
              "      <td>not available in demo dataset</td>\n",
              "      <td>Macintosh</td>\n",
              "      <td>not available in demo dataset</td>\n",
              "      <td>False</td>\n",
              "      <td>not available in demo dataset</td>\n",
              "      <td>not available in demo dataset</td>\n",
              "      <td>not available in demo dataset</td>\n",
              "      <td>not available in demo dataset</td>\n",
              "      <td>not available in demo dataset</td>\n",
              "      <td>not available in demo dataset</td>\n",
              "      <td>not available in demo dataset</td>\n",
              "      <td>not available in demo dataset</td>\n",
              "      <td>not available in demo dataset</td>\n",
              "      <td>desktop</td>\n",
              "      <td>Oceania</td>\n",
              "      <td>Australasia</td>\n",
              "      <td>Australia</td>\n",
              "      <td>not available in demo dataset</td>\n",
              "      <td>not available in demo dataset</td>\n",
              "      <td>not available in demo dataset</td>\n",
              "      <td>not available in demo dataset</td>\n",
              "      <td>dodo.net.au</td>\n",
              "      <td>not available in demo dataset</td>\n",
              "      <td>not available in demo dataset</td>\n",
              "      <td>not available in demo dataset</td>\n",
              "      <td>1</td>\n",
              "      <td>1</td>\n",
              "      <td>1</td>\n",
              "      <td>1</td>\n",
              "      <td>1</td>\n",
              "      <td>NaN</td>\n",
              "      <td>(not set)</td>\n",
              "      <td>google</td>\n",
              "      <td>organic</td>\n",
              "      <td>(not provided)</td>\n",
              "      <td>not available in demo dataset</td>\n",
              "      <td>NaN</td>\n",
              "      <td>NaN</td>\n",
              "      <td>NaN</td>\n",
              "      <td>NaN</td>\n",
              "      <td>NaN</td>\n",
              "      <td>NaN</td>\n",
              "      <td>NaN</td>\n",
              "      <td>NaN</td>\n",
              "      <td>NaN</td>\n",
              "    </tr>\n",
              "    <tr>\n",
              "      <th>2</th>\n",
              "      <td>Organic Search</td>\n",
              "      <td>20160902</td>\n",
              "      <td>3895546263509774583</td>\n",
              "      <td>3895546263509774583_1472865386</td>\n",
              "      <td>Not Socially Engaged</td>\n",
              "      <td>1472865386</td>\n",
              "      <td>1</td>\n",
              "      <td>1472865386</td>\n",
              "      <td>Chrome</td>\n",
              "      <td>not available in demo dataset</td>\n",
              "      <td>not available in demo dataset</td>\n",
              "      <td>Windows</td>\n",
              "      <td>not available in demo dataset</td>\n",
              "      <td>False</td>\n",
              "      <td>not available in demo dataset</td>\n",
              "      <td>not available in demo dataset</td>\n",
              "      <td>not available in demo dataset</td>\n",
              "      <td>not available in demo dataset</td>\n",
              "      <td>not available in demo dataset</td>\n",
              "      <td>not available in demo dataset</td>\n",
              "      <td>not available in demo dataset</td>\n",
              "      <td>not available in demo dataset</td>\n",
              "      <td>not available in demo dataset</td>\n",
              "      <td>desktop</td>\n",
              "      <td>Europe</td>\n",
              "      <td>Southern Europe</td>\n",
              "      <td>Spain</td>\n",
              "      <td>Community of Madrid</td>\n",
              "      <td>(not set)</td>\n",
              "      <td>Madrid</td>\n",
              "      <td>not available in demo dataset</td>\n",
              "      <td>unknown.unknown</td>\n",
              "      <td>not available in demo dataset</td>\n",
              "      <td>not available in demo dataset</td>\n",
              "      <td>not available in demo dataset</td>\n",
              "      <td>1</td>\n",
              "      <td>1</td>\n",
              "      <td>1</td>\n",
              "      <td>1</td>\n",
              "      <td>1</td>\n",
              "      <td>NaN</td>\n",
              "      <td>(not set)</td>\n",
              "      <td>google</td>\n",
              "      <td>organic</td>\n",
              "      <td>(not provided)</td>\n",
              "      <td>not available in demo dataset</td>\n",
              "      <td>NaN</td>\n",
              "      <td>NaN</td>\n",
              "      <td>NaN</td>\n",
              "      <td>NaN</td>\n",
              "      <td>NaN</td>\n",
              "      <td>NaN</td>\n",
              "      <td>NaN</td>\n",
              "      <td>NaN</td>\n",
              "      <td>NaN</td>\n",
              "    </tr>\n",
              "    <tr>\n",
              "      <th>3</th>\n",
              "      <td>Organic Search</td>\n",
              "      <td>20160902</td>\n",
              "      <td>4763447161404445595</td>\n",
              "      <td>4763447161404445595_1472881213</td>\n",
              "      <td>Not Socially Engaged</td>\n",
              "      <td>1472881213</td>\n",
              "      <td>1</td>\n",
              "      <td>1472881213</td>\n",
              "      <td>UC Browser</td>\n",
              "      <td>not available in demo dataset</td>\n",
              "      <td>not available in demo dataset</td>\n",
              "      <td>Linux</td>\n",
              "      <td>not available in demo dataset</td>\n",
              "      <td>False</td>\n",
              "      <td>not available in demo dataset</td>\n",
              "      <td>not available in demo dataset</td>\n",
              "      <td>not available in demo dataset</td>\n",
              "      <td>not available in demo dataset</td>\n",
              "      <td>not available in demo dataset</td>\n",
              "      <td>not available in demo dataset</td>\n",
              "      <td>not available in demo dataset</td>\n",
              "      <td>not available in demo dataset</td>\n",
              "      <td>not available in demo dataset</td>\n",
              "      <td>desktop</td>\n",
              "      <td>Asia</td>\n",
              "      <td>Southeast Asia</td>\n",
              "      <td>Indonesia</td>\n",
              "      <td>not available in demo dataset</td>\n",
              "      <td>not available in demo dataset</td>\n",
              "      <td>not available in demo dataset</td>\n",
              "      <td>not available in demo dataset</td>\n",
              "      <td>unknown.unknown</td>\n",
              "      <td>not available in demo dataset</td>\n",
              "      <td>not available in demo dataset</td>\n",
              "      <td>not available in demo dataset</td>\n",
              "      <td>1</td>\n",
              "      <td>1</td>\n",
              "      <td>1</td>\n",
              "      <td>1</td>\n",
              "      <td>1</td>\n",
              "      <td>NaN</td>\n",
              "      <td>(not set)</td>\n",
              "      <td>google</td>\n",
              "      <td>organic</td>\n",
              "      <td>google + online</td>\n",
              "      <td>not available in demo dataset</td>\n",
              "      <td>NaN</td>\n",
              "      <td>NaN</td>\n",
              "      <td>NaN</td>\n",
              "      <td>NaN</td>\n",
              "      <td>NaN</td>\n",
              "      <td>NaN</td>\n",
              "      <td>NaN</td>\n",
              "      <td>NaN</td>\n",
              "      <td>NaN</td>\n",
              "    </tr>\n",
              "    <tr>\n",
              "      <th>4</th>\n",
              "      <td>Organic Search</td>\n",
              "      <td>20160902</td>\n",
              "      <td>27294437909732085</td>\n",
              "      <td>27294437909732085_1472822600</td>\n",
              "      <td>Not Socially Engaged</td>\n",
              "      <td>1472822600</td>\n",
              "      <td>2</td>\n",
              "      <td>1472822600</td>\n",
              "      <td>Chrome</td>\n",
              "      <td>not available in demo dataset</td>\n",
              "      <td>not available in demo dataset</td>\n",
              "      <td>Android</td>\n",
              "      <td>not available in demo dataset</td>\n",
              "      <td>True</td>\n",
              "      <td>not available in demo dataset</td>\n",
              "      <td>not available in demo dataset</td>\n",
              "      <td>not available in demo dataset</td>\n",
              "      <td>not available in demo dataset</td>\n",
              "      <td>not available in demo dataset</td>\n",
              "      <td>not available in demo dataset</td>\n",
              "      <td>not available in demo dataset</td>\n",
              "      <td>not available in demo dataset</td>\n",
              "      <td>not available in demo dataset</td>\n",
              "      <td>mobile</td>\n",
              "      <td>Europe</td>\n",
              "      <td>Northern Europe</td>\n",
              "      <td>United Kingdom</td>\n",
              "      <td>not available in demo dataset</td>\n",
              "      <td>not available in demo dataset</td>\n",
              "      <td>not available in demo dataset</td>\n",
              "      <td>not available in demo dataset</td>\n",
              "      <td>unknown.unknown</td>\n",
              "      <td>not available in demo dataset</td>\n",
              "      <td>not available in demo dataset</td>\n",
              "      <td>not available in demo dataset</td>\n",
              "      <td>1</td>\n",
              "      <td>1</td>\n",
              "      <td>1</td>\n",
              "      <td>1</td>\n",
              "      <td>NaN</td>\n",
              "      <td>NaN</td>\n",
              "      <td>(not set)</td>\n",
              "      <td>google</td>\n",
              "      <td>organic</td>\n",
              "      <td>(not provided)</td>\n",
              "      <td>not available in demo dataset</td>\n",
              "      <td>True</td>\n",
              "      <td>NaN</td>\n",
              "      <td>NaN</td>\n",
              "      <td>NaN</td>\n",
              "      <td>NaN</td>\n",
              "      <td>NaN</td>\n",
              "      <td>NaN</td>\n",
              "      <td>NaN</td>\n",
              "      <td>NaN</td>\n",
              "    </tr>\n",
              "  </tbody>\n",
              "</table>\n",
              "</div>"
            ],
            "text/plain": [
              "  channelGrouping      date  ... trafficSource.adContent trafficSource.campaignCode\n",
              "0  Organic Search  20160902  ...                     NaN                        NaN\n",
              "1  Organic Search  20160902  ...                     NaN                        NaN\n",
              "2  Organic Search  20160902  ...                     NaN                        NaN\n",
              "3  Organic Search  20160902  ...                     NaN                        NaN\n",
              "4  Organic Search  20160902  ...                     NaN                        NaN\n",
              "\n",
              "[5 rows x 55 columns]"
            ]
          },
          "metadata": {
            "tags": []
          },
          "execution_count": 22
        }
      ]
    },
    {
      "cell_type": "code",
      "metadata": {
        "id": "aJCszn4cAHEl"
      },
      "source": [
        "df_1['totals.pageviews'].fillna(1, inplace=True) # mode of page views is 1\n",
        "df_1['totals.newVisits'].fillna(0, inplace=True)\n",
        "df_1['totals.bounces'].fillna(0, inplace=True) \n",
        "df_1[\"totals.transactionRevenue\"].fillna(0.0, inplace=True)"
      ],
      "execution_count": 23,
      "outputs": []
    },
    {
      "cell_type": "code",
      "metadata": {
        "id": "tTtZvylx-8L4"
      },
      "source": [
        "#Changing objects to int\n",
        "df_1['totals.pageviews'] = df_1['totals.pageviews'].astype(int)\n",
        "df_1['totals.newVisits'] = df_1['totals.newVisits'].astype(int)\n",
        "df_1['totals.bounces'] = df_1['totals.bounces'].astype(int)\n",
        "df_1[\"totals.transactionRevenue\"] = df_1[\"totals.transactionRevenue\"].astype(float)"
      ],
      "execution_count": 24,
      "outputs": []
    },
    {
      "cell_type": "code",
      "metadata": {
        "id": "iT331Myv-8U6"
      },
      "source": [
        "df_1['trafficSource.isTrueDirect'].fillna(False, inplace=True) \n",
        "df_1['trafficSource.adwordsClickInfo.isVideoAd'].fillna(True, inplace=True) # filling boolean with True\n"
      ],
      "execution_count": 25,
      "outputs": []
    },
    {
      "cell_type": "code",
      "metadata": {
        "id": "R1Tpj_8J3oFV"
      },
      "source": [
        "# df_1[df_1['geoNetwork.city'] == \"(not available in demo dataset)\"]['geoNetwork.city'] = np.nan\n",
        "# df_1['geoNetwork.city'].fillna(\"NaN\", inplace=True)"
      ],
      "execution_count": 26,
      "outputs": []
    },
    {
      "cell_type": "code",
      "metadata": {
        "colab": {
          "base_uri": "https://localhost:8080/"
        },
        "id": "sQ2g7Ek84Nsi",
        "outputId": "dba25394-8768-47d4-c177-593adb6b0ba6"
      },
      "source": [
        "df_1.isnull().sum()"
      ],
      "execution_count": 27,
      "outputs": [
        {
          "output_type": "execute_result",
          "data": {
            "text/plain": [
              "channelGrouping                                           0\n",
              "date                                                      0\n",
              "fullVisitorId                                             0\n",
              "sessionId                                                 0\n",
              "socialEngagementType                                      0\n",
              "visitId                                                   0\n",
              "visitNumber                                               0\n",
              "visitStartTime                                            0\n",
              "device.browser                                            0\n",
              "device.browserVersion                                     0\n",
              "device.browserSize                                        0\n",
              "device.operatingSystem                                    0\n",
              "device.operatingSystemVersion                             0\n",
              "device.isMobile                                           0\n",
              "device.mobileDeviceBranding                               0\n",
              "device.mobileDeviceModel                                  0\n",
              "device.mobileInputSelector                                0\n",
              "device.mobileDeviceInfo                                   0\n",
              "device.mobileDeviceMarketingName                          0\n",
              "device.flashVersion                                       0\n",
              "device.language                                           0\n",
              "device.screenColors                                       0\n",
              "device.screenResolution                                   0\n",
              "device.deviceCategory                                     0\n",
              "geoNetwork.continent                                      0\n",
              "geoNetwork.subContinent                                   0\n",
              "geoNetwork.country                                        0\n",
              "geoNetwork.region                                         0\n",
              "geoNetwork.metro                                          0\n",
              "geoNetwork.city                                           0\n",
              "geoNetwork.cityId                                         0\n",
              "geoNetwork.networkDomain                                  0\n",
              "geoNetwork.latitude                                       0\n",
              "geoNetwork.longitude                                      0\n",
              "geoNetwork.networkLocation                                0\n",
              "totals.visits                                             0\n",
              "totals.hits                                               0\n",
              "totals.pageviews                                          0\n",
              "totals.bounces                                            0\n",
              "totals.newVisits                                          0\n",
              "totals.transactionRevenue                                 0\n",
              "trafficSource.campaign                                    0\n",
              "trafficSource.source                                      0\n",
              "trafficSource.medium                                      0\n",
              "trafficSource.keyword                                502929\n",
              "trafficSource.adwordsClickInfo.criteriaParameters         0\n",
              "trafficSource.isTrueDirect                                0\n",
              "trafficSource.referralPath                           572712\n",
              "trafficSource.adwordsClickInfo.page                  882193\n",
              "trafficSource.adwordsClickInfo.slot                  882193\n",
              "trafficSource.adwordsClickInfo.gclId                 882092\n",
              "trafficSource.adwordsClickInfo.adNetworkType         882193\n",
              "trafficSource.adwordsClickInfo.isVideoAd                  0\n",
              "trafficSource.adContent                              892707\n",
              "trafficSource.campaignCode                           903652\n",
              "dtype: int64"
            ]
          },
          "metadata": {
            "tags": []
          },
          "execution_count": 27
        }
      ]
    },
    {
      "cell_type": "code",
      "metadata": {
        "id": "4siD4726ylte"
      },
      "source": [
        "columns = [col for col in df_1.columns if df_1[col].nunique() > 1]\n",
        "df_1 = df_1[columns]"
      ],
      "execution_count": 28,
      "outputs": []
    },
    {
      "cell_type": "code",
      "metadata": {
        "colab": {
          "base_uri": "https://localhost:8080/"
        },
        "id": "Btkk4m1Ay6zs",
        "outputId": "5e7287ad-b5bd-4ba3-ed42-81616105f323"
      },
      "source": [
        "df_1.info()"
      ],
      "execution_count": 29,
      "outputs": [
        {
          "output_type": "stream",
          "text": [
            "<class 'pandas.core.frame.DataFrame'>\n",
            "RangeIndex: 903653 entries, 0 to 903652\n",
            "Data columns (total 35 columns):\n",
            " #   Column                                        Non-Null Count   Dtype  \n",
            "---  ------                                        --------------   -----  \n",
            " 0   channelGrouping                               903653 non-null  object \n",
            " 1   date                                          903653 non-null  int64  \n",
            " 2   fullVisitorId                                 903653 non-null  object \n",
            " 3   sessionId                                     903653 non-null  object \n",
            " 4   visitId                                       903653 non-null  int64  \n",
            " 5   visitNumber                                   903653 non-null  int64  \n",
            " 6   visitStartTime                                903653 non-null  int64  \n",
            " 7   device.browser                                903653 non-null  object \n",
            " 8   device.operatingSystem                        903653 non-null  object \n",
            " 9   device.isMobile                               903653 non-null  bool   \n",
            " 10  device.deviceCategory                         903653 non-null  object \n",
            " 11  geoNetwork.continent                          903653 non-null  object \n",
            " 12  geoNetwork.subContinent                       903653 non-null  object \n",
            " 13  geoNetwork.country                            903653 non-null  object \n",
            " 14  geoNetwork.region                             903653 non-null  object \n",
            " 15  geoNetwork.metro                              903653 non-null  object \n",
            " 16  geoNetwork.city                               903653 non-null  object \n",
            " 17  geoNetwork.networkDomain                      903653 non-null  object \n",
            " 18  totals.hits                                   903653 non-null  object \n",
            " 19  totals.pageviews                              903653 non-null  int64  \n",
            " 20  totals.bounces                                903653 non-null  int64  \n",
            " 21  totals.newVisits                              903653 non-null  int64  \n",
            " 22  totals.transactionRevenue                     903653 non-null  float64\n",
            " 23  trafficSource.campaign                        903653 non-null  object \n",
            " 24  trafficSource.source                          903653 non-null  object \n",
            " 25  trafficSource.medium                          903653 non-null  object \n",
            " 26  trafficSource.keyword                         400724 non-null  object \n",
            " 27  trafficSource.isTrueDirect                    903653 non-null  bool   \n",
            " 28  trafficSource.referralPath                    330941 non-null  object \n",
            " 29  trafficSource.adwordsClickInfo.page           21460 non-null   object \n",
            " 30  trafficSource.adwordsClickInfo.slot           21460 non-null   object \n",
            " 31  trafficSource.adwordsClickInfo.gclId          21561 non-null   object \n",
            " 32  trafficSource.adwordsClickInfo.adNetworkType  21460 non-null   object \n",
            " 33  trafficSource.adwordsClickInfo.isVideoAd      903653 non-null  bool   \n",
            " 34  trafficSource.adContent                       10946 non-null   object \n",
            "dtypes: bool(3), float64(1), int64(7), object(24)\n",
            "memory usage: 223.2+ MB\n"
          ],
          "name": "stdout"
        }
      ]
    },
    {
      "cell_type": "code",
      "metadata": {
        "colab": {
          "base_uri": "https://localhost:8080/"
        },
        "id": "SoyrxWzZ5A8t",
        "outputId": "685575f0-8327-497a-9096-4037be42e92c"
      },
      "source": [
        "df_1.isnull().sum()"
      ],
      "execution_count": 30,
      "outputs": [
        {
          "output_type": "execute_result",
          "data": {
            "text/plain": [
              "channelGrouping                                      0\n",
              "date                                                 0\n",
              "fullVisitorId                                        0\n",
              "sessionId                                            0\n",
              "visitId                                              0\n",
              "visitNumber                                          0\n",
              "visitStartTime                                       0\n",
              "device.browser                                       0\n",
              "device.operatingSystem                               0\n",
              "device.isMobile                                      0\n",
              "device.deviceCategory                                0\n",
              "geoNetwork.continent                                 0\n",
              "geoNetwork.subContinent                              0\n",
              "geoNetwork.country                                   0\n",
              "geoNetwork.region                                    0\n",
              "geoNetwork.metro                                     0\n",
              "geoNetwork.city                                      0\n",
              "geoNetwork.networkDomain                             0\n",
              "totals.hits                                          0\n",
              "totals.pageviews                                     0\n",
              "totals.bounces                                       0\n",
              "totals.newVisits                                     0\n",
              "totals.transactionRevenue                            0\n",
              "trafficSource.campaign                               0\n",
              "trafficSource.source                                 0\n",
              "trafficSource.medium                                 0\n",
              "trafficSource.keyword                           502929\n",
              "trafficSource.isTrueDirect                           0\n",
              "trafficSource.referralPath                      572712\n",
              "trafficSource.adwordsClickInfo.page             882193\n",
              "trafficSource.adwordsClickInfo.slot             882193\n",
              "trafficSource.adwordsClickInfo.gclId            882092\n",
              "trafficSource.adwordsClickInfo.adNetworkType    882193\n",
              "trafficSource.adwordsClickInfo.isVideoAd             0\n",
              "trafficSource.adContent                         892707\n",
              "dtype: int64"
            ]
          },
          "metadata": {
            "tags": []
          },
          "execution_count": 30
        }
      ]
    },
    {
      "cell_type": "code",
      "metadata": {
        "id": "tL45Jx0D4N1I"
      },
      "source": [
        "# Removing columns with high null values \n",
        "df_1.drop(columns=['trafficSource.adContent', 'trafficSource.adwordsClickInfo.adNetworkType', 'trafficSource.adwordsClickInfo.gclId',\n",
        "                'trafficSource.adwordsClickInfo.slot', 'trafficSource.adwordsClickInfo.page', 'trafficSource.referralPath',\n",
        "                 'trafficSource.keyword'], inplace = True)"
      ],
      "execution_count": 31,
      "outputs": []
    },
    {
      "cell_type": "code",
      "metadata": {
        "id": "P8MGBwPT5AHB"
      },
      "source": [
        "# for col in df_1.columns:\n",
        "#     if len(df_1[col].unique()) == 1:\n",
        "#         df_1.drop(col,inplace=True,axis=1)"
      ],
      "execution_count": 32,
      "outputs": []
    },
    {
      "cell_type": "code",
      "metadata": {
        "colab": {
          "base_uri": "https://localhost:8080/"
        },
        "id": "CB0pO7S75AP2",
        "outputId": "64fc24c0-bdc5-446f-a62e-580226b4ec07"
      },
      "source": [
        "print(df.shape)\n",
        "print(df_1.shape)"
      ],
      "execution_count": 33,
      "outputs": [
        {
          "output_type": "stream",
          "text": [
            "(903653, 55)\n",
            "(903653, 28)\n"
          ],
          "name": "stdout"
        }
      ]
    },
    {
      "cell_type": "code",
      "metadata": {
        "colab": {
          "base_uri": "https://localhost:8080/"
        },
        "id": "6Lb2t_vd51BU",
        "outputId": "b149cb13-6425-4848-bdcd-7ca1e9cd8ad0"
      },
      "source": [
        "df_1.info()"
      ],
      "execution_count": 34,
      "outputs": [
        {
          "output_type": "stream",
          "text": [
            "<class 'pandas.core.frame.DataFrame'>\n",
            "RangeIndex: 903653 entries, 0 to 903652\n",
            "Data columns (total 28 columns):\n",
            " #   Column                                    Non-Null Count   Dtype  \n",
            "---  ------                                    --------------   -----  \n",
            " 0   channelGrouping                           903653 non-null  object \n",
            " 1   date                                      903653 non-null  int64  \n",
            " 2   fullVisitorId                             903653 non-null  object \n",
            " 3   sessionId                                 903653 non-null  object \n",
            " 4   visitId                                   903653 non-null  int64  \n",
            " 5   visitNumber                               903653 non-null  int64  \n",
            " 6   visitStartTime                            903653 non-null  int64  \n",
            " 7   device.browser                            903653 non-null  object \n",
            " 8   device.operatingSystem                    903653 non-null  object \n",
            " 9   device.isMobile                           903653 non-null  bool   \n",
            " 10  device.deviceCategory                     903653 non-null  object \n",
            " 11  geoNetwork.continent                      903653 non-null  object \n",
            " 12  geoNetwork.subContinent                   903653 non-null  object \n",
            " 13  geoNetwork.country                        903653 non-null  object \n",
            " 14  geoNetwork.region                         903653 non-null  object \n",
            " 15  geoNetwork.metro                          903653 non-null  object \n",
            " 16  geoNetwork.city                           903653 non-null  object \n",
            " 17  geoNetwork.networkDomain                  903653 non-null  object \n",
            " 18  totals.hits                               903653 non-null  object \n",
            " 19  totals.pageviews                          903653 non-null  int64  \n",
            " 20  totals.bounces                            903653 non-null  int64  \n",
            " 21  totals.newVisits                          903653 non-null  int64  \n",
            " 22  totals.transactionRevenue                 903653 non-null  float64\n",
            " 23  trafficSource.campaign                    903653 non-null  object \n",
            " 24  trafficSource.source                      903653 non-null  object \n",
            " 25  trafficSource.medium                      903653 non-null  object \n",
            " 26  trafficSource.isTrueDirect                903653 non-null  bool   \n",
            " 27  trafficSource.adwordsClickInfo.isVideoAd  903653 non-null  bool   \n",
            "dtypes: bool(3), float64(1), int64(7), object(17)\n",
            "memory usage: 174.9+ MB\n"
          ],
          "name": "stdout"
        }
      ]
    },
    {
      "cell_type": "code",
      "metadata": {
        "id": "AI-S1gTD5tvO"
      },
      "source": [
        "# Converting to float\n",
        "# df_1['fullVisitorId'] = df_1['fullVisitorId'].astype(float)\n",
        "# df_1['sessionId'] = df_1['sessionId'].astype(float)"
      ],
      "execution_count": 35,
      "outputs": []
    },
    {
      "cell_type": "code",
      "metadata": {
        "id": "12zFSX-v5t4l"
      },
      "source": [
        "# df_1[\"date\"] = pd.to_datetime(df_1[\"date\"], format=\"%Y%m%d\") # seting the column as pandas datetime\n",
        "# df_1[\"weekday\"] = df_1['date'].dt.weekday #extracting week day\n",
        "# df_1[\"day\"] = df_1['date'].dt.day # extracting day\n",
        "# df_1[\"month\"] = df_1['date'].dt.month # extracting day\n",
        "# df_1[\"year\"] = df_1['date'].dt.year # extracting day\n"
      ],
      "execution_count": 36,
      "outputs": []
    },
    {
      "cell_type": "code",
      "metadata": {
        "colab": {
          "base_uri": "https://localhost:8080/"
        },
        "id": "FUK2xBvq6N0g",
        "outputId": "d52d8382-b0a0-4908-e70c-6cab6e373950"
      },
      "source": [
        "df_1.shape"
      ],
      "execution_count": 37,
      "outputs": [
        {
          "output_type": "execute_result",
          "data": {
            "text/plain": [
              "(903653, 28)"
            ]
          },
          "metadata": {
            "tags": []
          },
          "execution_count": 37
        }
      ]
    },
    {
      "cell_type": "code",
      "metadata": {
        "id": "_zrYatP4PlRB"
      },
      "source": [
        ""
      ],
      "execution_count": 37,
      "outputs": []
    },
    {
      "cell_type": "code",
      "metadata": {
        "id": "-N3ZX_NJQAwS"
      },
      "source": [
        "# Copy into another dataframe to complete feature Engineering"
      ],
      "execution_count": 38,
      "outputs": []
    },
    {
      "cell_type": "code",
      "metadata": {
        "id": "UYPlAy_1QNkG"
      },
      "source": [
        "df_2 = df_1.copy()"
      ],
      "execution_count": 39,
      "outputs": []
    },
    {
      "cell_type": "code",
      "metadata": {
        "colab": {
          "base_uri": "https://localhost:8080/"
        },
        "id": "Su7O80TwUSuc",
        "outputId": "f94eefb2-34a9-4258-b789-6aef78695269"
      },
      "source": [
        "df_2.info()"
      ],
      "execution_count": 40,
      "outputs": [
        {
          "output_type": "stream",
          "text": [
            "<class 'pandas.core.frame.DataFrame'>\n",
            "RangeIndex: 903653 entries, 0 to 903652\n",
            "Data columns (total 28 columns):\n",
            " #   Column                                    Non-Null Count   Dtype  \n",
            "---  ------                                    --------------   -----  \n",
            " 0   channelGrouping                           903653 non-null  object \n",
            " 1   date                                      903653 non-null  int64  \n",
            " 2   fullVisitorId                             903653 non-null  object \n",
            " 3   sessionId                                 903653 non-null  object \n",
            " 4   visitId                                   903653 non-null  int64  \n",
            " 5   visitNumber                               903653 non-null  int64  \n",
            " 6   visitStartTime                            903653 non-null  int64  \n",
            " 7   device.browser                            903653 non-null  object \n",
            " 8   device.operatingSystem                    903653 non-null  object \n",
            " 9   device.isMobile                           903653 non-null  bool   \n",
            " 10  device.deviceCategory                     903653 non-null  object \n",
            " 11  geoNetwork.continent                      903653 non-null  object \n",
            " 12  geoNetwork.subContinent                   903653 non-null  object \n",
            " 13  geoNetwork.country                        903653 non-null  object \n",
            " 14  geoNetwork.region                         903653 non-null  object \n",
            " 15  geoNetwork.metro                          903653 non-null  object \n",
            " 16  geoNetwork.city                           903653 non-null  object \n",
            " 17  geoNetwork.networkDomain                  903653 non-null  object \n",
            " 18  totals.hits                               903653 non-null  object \n",
            " 19  totals.pageviews                          903653 non-null  int64  \n",
            " 20  totals.bounces                            903653 non-null  int64  \n",
            " 21  totals.newVisits                          903653 non-null  int64  \n",
            " 22  totals.transactionRevenue                 903653 non-null  float64\n",
            " 23  trafficSource.campaign                    903653 non-null  object \n",
            " 24  trafficSource.source                      903653 non-null  object \n",
            " 25  trafficSource.medium                      903653 non-null  object \n",
            " 26  trafficSource.isTrueDirect                903653 non-null  bool   \n",
            " 27  trafficSource.adwordsClickInfo.isVideoAd  903653 non-null  bool   \n",
            "dtypes: bool(3), float64(1), int64(7), object(17)\n",
            "memory usage: 174.9+ MB\n"
          ],
          "name": "stdout"
        }
      ]
    },
    {
      "cell_type": "code",
      "metadata": {
        "id": "uLqx4TJ66wl1"
      },
      "source": [
        "# Visit time\n",
        "df_2['diff_visitId_time'] = df_2['visitId'] - df_2['visitStartTime']\n",
        "df_2['diff_visitId_time'] = (df_2['diff_visitId_time'] != 0).astype(int)\n",
        "del df_2['visitId']"
      ],
      "execution_count": 41,
      "outputs": []
    },
    {
      "cell_type": "code",
      "metadata": {
        "id": "nZkxD6vGlgvx"
      },
      "source": [
        "# Visit hour\n",
        "df_2['formated_visitStartTime'] = df_2['visitStartTime'].apply(\n",
        "    lambda x: time.strftime('%Y-%m-%d %H:%M:%S', time.localtime(x)))\n",
        "df_2['formated_visitStartTime'] = pd.to_datetime(df_2['formated_visitStartTime'])\n",
        "df_2['visit_hour'] = df_2['formated_visitStartTime'].apply(lambda x: x.hour)\n",
        " \n",
        "del df_2['visitStartTime']\n",
        "del df_2['formated_visitStartTime']"
      ],
      "execution_count": 42,
      "outputs": []
    },
    {
      "cell_type": "code",
      "metadata": {
        "id": "RsJS-D-mlhXs"
      },
      "source": [
        "# date\n",
        "format_str = '%Y%m%d' \n",
        "df_2['formated_date'] = df_2['date'].apply(lambda x: datetime.strptime(str(x), format_str))\n",
        "df_2['month'] = df_2['formated_date'].apply(lambda x:x.month)\n",
        "df_2['quarter_month'] = df_2['formated_date'].apply(lambda x:x.day//8)\n",
        "df_2['day'] = df_2['formated_date'].apply(lambda x:x.day)\n",
        "df_2['weekday'] = df_2['formated_date'].apply(lambda x:x.weekday())\n",
        " \n",
        "del df_2['date']"
      ],
      "execution_count": 43,
      "outputs": []
    },
    {
      "cell_type": "code",
      "metadata": {
        "id": "zoTkuKgqlhqb"
      },
      "source": [
        "# total hits\n",
        "df_2['totals.hits'] = df_2['totals.hits'].astype(int)\n",
        "df_2['mean_hits_per_day'] = df_2.groupby(['day'])['totals.hits'].transform('mean')\n",
        "del  df_2['day']"
      ],
      "execution_count": 44,
      "outputs": []
    },
    {
      "cell_type": "code",
      "metadata": {
        "id": "pJWQYvx_mWK8"
      },
      "source": [
        "num_cols = [\"totals.hits\", \"totals.pageviews\", \"visitNumber\", 'totals.bounces',  'totals.newVisits']    \n",
        "for col in num_cols:\n",
        "    df_2[col] = df_2[col].astype(float)"
      ],
      "execution_count": 45,
      "outputs": []
    },
    {
      "cell_type": "code",
      "metadata": {
        "id": "wyxs8gMEmWXQ"
      },
      "source": [
        "# Removing unwanted id columns\n",
        "df_2 = df_2.drop(['fullVisitorId','sessionId'], axis = 1)"
      ],
      "execution_count": 46,
      "outputs": []
    },
    {
      "cell_type": "code",
      "metadata": {
        "colab": {
          "base_uri": "https://localhost:8080/"
        },
        "id": "iH9dRmtBmWi2",
        "outputId": "6eae74e5-262c-45e2-a47d-27f5c7a30a31"
      },
      "source": [
        "df_2.info()"
      ],
      "execution_count": 47,
      "outputs": [
        {
          "output_type": "stream",
          "text": [
            "<class 'pandas.core.frame.DataFrame'>\n",
            "RangeIndex: 903653 entries, 0 to 903652\n",
            "Data columns (total 30 columns):\n",
            " #   Column                                    Non-Null Count   Dtype         \n",
            "---  ------                                    --------------   -----         \n",
            " 0   channelGrouping                           903653 non-null  object        \n",
            " 1   visitNumber                               903653 non-null  float64       \n",
            " 2   device.browser                            903653 non-null  object        \n",
            " 3   device.operatingSystem                    903653 non-null  object        \n",
            " 4   device.isMobile                           903653 non-null  bool          \n",
            " 5   device.deviceCategory                     903653 non-null  object        \n",
            " 6   geoNetwork.continent                      903653 non-null  object        \n",
            " 7   geoNetwork.subContinent                   903653 non-null  object        \n",
            " 8   geoNetwork.country                        903653 non-null  object        \n",
            " 9   geoNetwork.region                         903653 non-null  object        \n",
            " 10  geoNetwork.metro                          903653 non-null  object        \n",
            " 11  geoNetwork.city                           903653 non-null  object        \n",
            " 12  geoNetwork.networkDomain                  903653 non-null  object        \n",
            " 13  totals.hits                               903653 non-null  float64       \n",
            " 14  totals.pageviews                          903653 non-null  float64       \n",
            " 15  totals.bounces                            903653 non-null  float64       \n",
            " 16  totals.newVisits                          903653 non-null  float64       \n",
            " 17  totals.transactionRevenue                 903653 non-null  float64       \n",
            " 18  trafficSource.campaign                    903653 non-null  object        \n",
            " 19  trafficSource.source                      903653 non-null  object        \n",
            " 20  trafficSource.medium                      903653 non-null  object        \n",
            " 21  trafficSource.isTrueDirect                903653 non-null  bool          \n",
            " 22  trafficSource.adwordsClickInfo.isVideoAd  903653 non-null  bool          \n",
            " 23  diff_visitId_time                         903653 non-null  int64         \n",
            " 24  visit_hour                                903653 non-null  int64         \n",
            " 25  formated_date                             903653 non-null  datetime64[ns]\n",
            " 26  month                                     903653 non-null  int64         \n",
            " 27  quarter_month                             903653 non-null  int64         \n",
            " 28  weekday                                   903653 non-null  int64         \n",
            " 29  mean_hits_per_day                         903653 non-null  float64       \n",
            "dtypes: bool(3), datetime64[ns](1), float64(7), int64(5), object(14)\n",
            "memory usage: 188.7+ MB\n"
          ],
          "name": "stdout"
        }
      ]
    },
    {
      "cell_type": "code",
      "metadata": {
        "colab": {
          "base_uri": "https://localhost:8080/",
          "height": 292
        },
        "id": "mV6m0wMR7JxQ",
        "outputId": "fa2e680d-9a6e-4b32-f25a-b4b9e964e045"
      },
      "source": [
        "df_2.head()"
      ],
      "execution_count": 48,
      "outputs": [
        {
          "output_type": "execute_result",
          "data": {
            "text/html": [
              "<div>\n",
              "<style scoped>\n",
              "    .dataframe tbody tr th:only-of-type {\n",
              "        vertical-align: middle;\n",
              "    }\n",
              "\n",
              "    .dataframe tbody tr th {\n",
              "        vertical-align: top;\n",
              "    }\n",
              "\n",
              "    .dataframe thead th {\n",
              "        text-align: right;\n",
              "    }\n",
              "</style>\n",
              "<table border=\"1\" class=\"dataframe\">\n",
              "  <thead>\n",
              "    <tr style=\"text-align: right;\">\n",
              "      <th></th>\n",
              "      <th>channelGrouping</th>\n",
              "      <th>visitNumber</th>\n",
              "      <th>device.browser</th>\n",
              "      <th>device.operatingSystem</th>\n",
              "      <th>device.isMobile</th>\n",
              "      <th>device.deviceCategory</th>\n",
              "      <th>geoNetwork.continent</th>\n",
              "      <th>geoNetwork.subContinent</th>\n",
              "      <th>geoNetwork.country</th>\n",
              "      <th>geoNetwork.region</th>\n",
              "      <th>geoNetwork.metro</th>\n",
              "      <th>geoNetwork.city</th>\n",
              "      <th>geoNetwork.networkDomain</th>\n",
              "      <th>totals.hits</th>\n",
              "      <th>totals.pageviews</th>\n",
              "      <th>totals.bounces</th>\n",
              "      <th>totals.newVisits</th>\n",
              "      <th>totals.transactionRevenue</th>\n",
              "      <th>trafficSource.campaign</th>\n",
              "      <th>trafficSource.source</th>\n",
              "      <th>trafficSource.medium</th>\n",
              "      <th>trafficSource.isTrueDirect</th>\n",
              "      <th>trafficSource.adwordsClickInfo.isVideoAd</th>\n",
              "      <th>diff_visitId_time</th>\n",
              "      <th>visit_hour</th>\n",
              "      <th>formated_date</th>\n",
              "      <th>month</th>\n",
              "      <th>quarter_month</th>\n",
              "      <th>weekday</th>\n",
              "      <th>mean_hits_per_day</th>\n",
              "    </tr>\n",
              "  </thead>\n",
              "  <tbody>\n",
              "    <tr>\n",
              "      <th>0</th>\n",
              "      <td>Organic Search</td>\n",
              "      <td>1.0</td>\n",
              "      <td>Chrome</td>\n",
              "      <td>Windows</td>\n",
              "      <td>False</td>\n",
              "      <td>desktop</td>\n",
              "      <td>Asia</td>\n",
              "      <td>Western Asia</td>\n",
              "      <td>Turkey</td>\n",
              "      <td>Izmir</td>\n",
              "      <td>(not set)</td>\n",
              "      <td>Izmir</td>\n",
              "      <td>ttnet.com.tr</td>\n",
              "      <td>1.0</td>\n",
              "      <td>1.0</td>\n",
              "      <td>1.0</td>\n",
              "      <td>1.0</td>\n",
              "      <td>0.0</td>\n",
              "      <td>(not set)</td>\n",
              "      <td>google</td>\n",
              "      <td>organic</td>\n",
              "      <td>False</td>\n",
              "      <td>True</td>\n",
              "      <td>0</td>\n",
              "      <td>15</td>\n",
              "      <td>2016-09-02</td>\n",
              "      <td>9</td>\n",
              "      <td>0</td>\n",
              "      <td>4</td>\n",
              "      <td>4.638119</td>\n",
              "    </tr>\n",
              "    <tr>\n",
              "      <th>1</th>\n",
              "      <td>Organic Search</td>\n",
              "      <td>1.0</td>\n",
              "      <td>Firefox</td>\n",
              "      <td>Macintosh</td>\n",
              "      <td>False</td>\n",
              "      <td>desktop</td>\n",
              "      <td>Oceania</td>\n",
              "      <td>Australasia</td>\n",
              "      <td>Australia</td>\n",
              "      <td>not available in demo dataset</td>\n",
              "      <td>not available in demo dataset</td>\n",
              "      <td>not available in demo dataset</td>\n",
              "      <td>dodo.net.au</td>\n",
              "      <td>1.0</td>\n",
              "      <td>1.0</td>\n",
              "      <td>1.0</td>\n",
              "      <td>1.0</td>\n",
              "      <td>0.0</td>\n",
              "      <td>(not set)</td>\n",
              "      <td>google</td>\n",
              "      <td>organic</td>\n",
              "      <td>False</td>\n",
              "      <td>True</td>\n",
              "      <td>0</td>\n",
              "      <td>5</td>\n",
              "      <td>2016-09-02</td>\n",
              "      <td>9</td>\n",
              "      <td>0</td>\n",
              "      <td>4</td>\n",
              "      <td>4.638119</td>\n",
              "    </tr>\n",
              "    <tr>\n",
              "      <th>2</th>\n",
              "      <td>Organic Search</td>\n",
              "      <td>1.0</td>\n",
              "      <td>Chrome</td>\n",
              "      <td>Windows</td>\n",
              "      <td>False</td>\n",
              "      <td>desktop</td>\n",
              "      <td>Europe</td>\n",
              "      <td>Southern Europe</td>\n",
              "      <td>Spain</td>\n",
              "      <td>Community of Madrid</td>\n",
              "      <td>(not set)</td>\n",
              "      <td>Madrid</td>\n",
              "      <td>unknown.unknown</td>\n",
              "      <td>1.0</td>\n",
              "      <td>1.0</td>\n",
              "      <td>1.0</td>\n",
              "      <td>1.0</td>\n",
              "      <td>0.0</td>\n",
              "      <td>(not set)</td>\n",
              "      <td>google</td>\n",
              "      <td>organic</td>\n",
              "      <td>False</td>\n",
              "      <td>True</td>\n",
              "      <td>0</td>\n",
              "      <td>1</td>\n",
              "      <td>2016-09-02</td>\n",
              "      <td>9</td>\n",
              "      <td>0</td>\n",
              "      <td>4</td>\n",
              "      <td>4.638119</td>\n",
              "    </tr>\n",
              "    <tr>\n",
              "      <th>3</th>\n",
              "      <td>Organic Search</td>\n",
              "      <td>1.0</td>\n",
              "      <td>UC Browser</td>\n",
              "      <td>Linux</td>\n",
              "      <td>False</td>\n",
              "      <td>desktop</td>\n",
              "      <td>Asia</td>\n",
              "      <td>Southeast Asia</td>\n",
              "      <td>Indonesia</td>\n",
              "      <td>not available in demo dataset</td>\n",
              "      <td>not available in demo dataset</td>\n",
              "      <td>not available in demo dataset</td>\n",
              "      <td>unknown.unknown</td>\n",
              "      <td>1.0</td>\n",
              "      <td>1.0</td>\n",
              "      <td>1.0</td>\n",
              "      <td>1.0</td>\n",
              "      <td>0.0</td>\n",
              "      <td>(not set)</td>\n",
              "      <td>google</td>\n",
              "      <td>organic</td>\n",
              "      <td>False</td>\n",
              "      <td>True</td>\n",
              "      <td>0</td>\n",
              "      <td>5</td>\n",
              "      <td>2016-09-02</td>\n",
              "      <td>9</td>\n",
              "      <td>0</td>\n",
              "      <td>4</td>\n",
              "      <td>4.638119</td>\n",
              "    </tr>\n",
              "    <tr>\n",
              "      <th>4</th>\n",
              "      <td>Organic Search</td>\n",
              "      <td>2.0</td>\n",
              "      <td>Chrome</td>\n",
              "      <td>Android</td>\n",
              "      <td>True</td>\n",
              "      <td>mobile</td>\n",
              "      <td>Europe</td>\n",
              "      <td>Northern Europe</td>\n",
              "      <td>United Kingdom</td>\n",
              "      <td>not available in demo dataset</td>\n",
              "      <td>not available in demo dataset</td>\n",
              "      <td>not available in demo dataset</td>\n",
              "      <td>unknown.unknown</td>\n",
              "      <td>1.0</td>\n",
              "      <td>1.0</td>\n",
              "      <td>1.0</td>\n",
              "      <td>0.0</td>\n",
              "      <td>0.0</td>\n",
              "      <td>(not set)</td>\n",
              "      <td>google</td>\n",
              "      <td>organic</td>\n",
              "      <td>True</td>\n",
              "      <td>True</td>\n",
              "      <td>0</td>\n",
              "      <td>13</td>\n",
              "      <td>2016-09-02</td>\n",
              "      <td>9</td>\n",
              "      <td>0</td>\n",
              "      <td>4</td>\n",
              "      <td>4.638119</td>\n",
              "    </tr>\n",
              "  </tbody>\n",
              "</table>\n",
              "</div>"
            ],
            "text/plain": [
              "  channelGrouping  visitNumber  ... weekday mean_hits_per_day\n",
              "0  Organic Search          1.0  ...       4          4.638119\n",
              "1  Organic Search          1.0  ...       4          4.638119\n",
              "2  Organic Search          1.0  ...       4          4.638119\n",
              "3  Organic Search          1.0  ...       4          4.638119\n",
              "4  Organic Search          2.0  ...       4          4.638119\n",
              "\n",
              "[5 rows x 30 columns]"
            ]
          },
          "metadata": {
            "tags": []
          },
          "execution_count": 48
        }
      ]
    },
    {
      "cell_type": "code",
      "metadata": {
        "id": "FOKguHy97XLM"
      },
      "source": [
        "# Copy for Encoding categorical features\n",
        "df_3 = df_2.copy()"
      ],
      "execution_count": 49,
      "outputs": []
    },
    {
      "cell_type": "code",
      "metadata": {
        "colab": {
          "base_uri": "https://localhost:8080/"
        },
        "id": "MGL0oiUx8W8m",
        "outputId": "ecdeecae-3a6a-47d3-eb8b-ded676ebc823"
      },
      "source": [
        "df_3.info()"
      ],
      "execution_count": 50,
      "outputs": [
        {
          "output_type": "stream",
          "text": [
            "<class 'pandas.core.frame.DataFrame'>\n",
            "RangeIndex: 903653 entries, 0 to 903652\n",
            "Data columns (total 30 columns):\n",
            " #   Column                                    Non-Null Count   Dtype         \n",
            "---  ------                                    --------------   -----         \n",
            " 0   channelGrouping                           903653 non-null  object        \n",
            " 1   visitNumber                               903653 non-null  float64       \n",
            " 2   device.browser                            903653 non-null  object        \n",
            " 3   device.operatingSystem                    903653 non-null  object        \n",
            " 4   device.isMobile                           903653 non-null  bool          \n",
            " 5   device.deviceCategory                     903653 non-null  object        \n",
            " 6   geoNetwork.continent                      903653 non-null  object        \n",
            " 7   geoNetwork.subContinent                   903653 non-null  object        \n",
            " 8   geoNetwork.country                        903653 non-null  object        \n",
            " 9   geoNetwork.region                         903653 non-null  object        \n",
            " 10  geoNetwork.metro                          903653 non-null  object        \n",
            " 11  geoNetwork.city                           903653 non-null  object        \n",
            " 12  geoNetwork.networkDomain                  903653 non-null  object        \n",
            " 13  totals.hits                               903653 non-null  float64       \n",
            " 14  totals.pageviews                          903653 non-null  float64       \n",
            " 15  totals.bounces                            903653 non-null  float64       \n",
            " 16  totals.newVisits                          903653 non-null  float64       \n",
            " 17  totals.transactionRevenue                 903653 non-null  float64       \n",
            " 18  trafficSource.campaign                    903653 non-null  object        \n",
            " 19  trafficSource.source                      903653 non-null  object        \n",
            " 20  trafficSource.medium                      903653 non-null  object        \n",
            " 21  trafficSource.isTrueDirect                903653 non-null  bool          \n",
            " 22  trafficSource.adwordsClickInfo.isVideoAd  903653 non-null  bool          \n",
            " 23  diff_visitId_time                         903653 non-null  int64         \n",
            " 24  visit_hour                                903653 non-null  int64         \n",
            " 25  formated_date                             903653 non-null  datetime64[ns]\n",
            " 26  month                                     903653 non-null  int64         \n",
            " 27  quarter_month                             903653 non-null  int64         \n",
            " 28  weekday                                   903653 non-null  int64         \n",
            " 29  mean_hits_per_day                         903653 non-null  float64       \n",
            "dtypes: bool(3), datetime64[ns](1), float64(7), int64(5), object(14)\n",
            "memory usage: 188.7+ MB\n"
          ],
          "name": "stdout"
        }
      ]
    },
    {
      "cell_type": "code",
      "metadata": {
        "colab": {
          "base_uri": "https://localhost:8080/",
          "height": 292
        },
        "id": "785KVPYbDi-z",
        "outputId": "d6b3ca51-e042-4c0a-af2a-9f79736e0b60"
      },
      "source": [
        "df_3.head()"
      ],
      "execution_count": 51,
      "outputs": [
        {
          "output_type": "execute_result",
          "data": {
            "text/html": [
              "<div>\n",
              "<style scoped>\n",
              "    .dataframe tbody tr th:only-of-type {\n",
              "        vertical-align: middle;\n",
              "    }\n",
              "\n",
              "    .dataframe tbody tr th {\n",
              "        vertical-align: top;\n",
              "    }\n",
              "\n",
              "    .dataframe thead th {\n",
              "        text-align: right;\n",
              "    }\n",
              "</style>\n",
              "<table border=\"1\" class=\"dataframe\">\n",
              "  <thead>\n",
              "    <tr style=\"text-align: right;\">\n",
              "      <th></th>\n",
              "      <th>channelGrouping</th>\n",
              "      <th>visitNumber</th>\n",
              "      <th>device.browser</th>\n",
              "      <th>device.operatingSystem</th>\n",
              "      <th>device.isMobile</th>\n",
              "      <th>device.deviceCategory</th>\n",
              "      <th>geoNetwork.continent</th>\n",
              "      <th>geoNetwork.subContinent</th>\n",
              "      <th>geoNetwork.country</th>\n",
              "      <th>geoNetwork.region</th>\n",
              "      <th>geoNetwork.metro</th>\n",
              "      <th>geoNetwork.city</th>\n",
              "      <th>geoNetwork.networkDomain</th>\n",
              "      <th>totals.hits</th>\n",
              "      <th>totals.pageviews</th>\n",
              "      <th>totals.bounces</th>\n",
              "      <th>totals.newVisits</th>\n",
              "      <th>totals.transactionRevenue</th>\n",
              "      <th>trafficSource.campaign</th>\n",
              "      <th>trafficSource.source</th>\n",
              "      <th>trafficSource.medium</th>\n",
              "      <th>trafficSource.isTrueDirect</th>\n",
              "      <th>trafficSource.adwordsClickInfo.isVideoAd</th>\n",
              "      <th>diff_visitId_time</th>\n",
              "      <th>visit_hour</th>\n",
              "      <th>formated_date</th>\n",
              "      <th>month</th>\n",
              "      <th>quarter_month</th>\n",
              "      <th>weekday</th>\n",
              "      <th>mean_hits_per_day</th>\n",
              "    </tr>\n",
              "  </thead>\n",
              "  <tbody>\n",
              "    <tr>\n",
              "      <th>0</th>\n",
              "      <td>Organic Search</td>\n",
              "      <td>1.0</td>\n",
              "      <td>Chrome</td>\n",
              "      <td>Windows</td>\n",
              "      <td>False</td>\n",
              "      <td>desktop</td>\n",
              "      <td>Asia</td>\n",
              "      <td>Western Asia</td>\n",
              "      <td>Turkey</td>\n",
              "      <td>Izmir</td>\n",
              "      <td>(not set)</td>\n",
              "      <td>Izmir</td>\n",
              "      <td>ttnet.com.tr</td>\n",
              "      <td>1.0</td>\n",
              "      <td>1.0</td>\n",
              "      <td>1.0</td>\n",
              "      <td>1.0</td>\n",
              "      <td>0.0</td>\n",
              "      <td>(not set)</td>\n",
              "      <td>google</td>\n",
              "      <td>organic</td>\n",
              "      <td>False</td>\n",
              "      <td>True</td>\n",
              "      <td>0</td>\n",
              "      <td>15</td>\n",
              "      <td>2016-09-02</td>\n",
              "      <td>9</td>\n",
              "      <td>0</td>\n",
              "      <td>4</td>\n",
              "      <td>4.638119</td>\n",
              "    </tr>\n",
              "    <tr>\n",
              "      <th>1</th>\n",
              "      <td>Organic Search</td>\n",
              "      <td>1.0</td>\n",
              "      <td>Firefox</td>\n",
              "      <td>Macintosh</td>\n",
              "      <td>False</td>\n",
              "      <td>desktop</td>\n",
              "      <td>Oceania</td>\n",
              "      <td>Australasia</td>\n",
              "      <td>Australia</td>\n",
              "      <td>not available in demo dataset</td>\n",
              "      <td>not available in demo dataset</td>\n",
              "      <td>not available in demo dataset</td>\n",
              "      <td>dodo.net.au</td>\n",
              "      <td>1.0</td>\n",
              "      <td>1.0</td>\n",
              "      <td>1.0</td>\n",
              "      <td>1.0</td>\n",
              "      <td>0.0</td>\n",
              "      <td>(not set)</td>\n",
              "      <td>google</td>\n",
              "      <td>organic</td>\n",
              "      <td>False</td>\n",
              "      <td>True</td>\n",
              "      <td>0</td>\n",
              "      <td>5</td>\n",
              "      <td>2016-09-02</td>\n",
              "      <td>9</td>\n",
              "      <td>0</td>\n",
              "      <td>4</td>\n",
              "      <td>4.638119</td>\n",
              "    </tr>\n",
              "    <tr>\n",
              "      <th>2</th>\n",
              "      <td>Organic Search</td>\n",
              "      <td>1.0</td>\n",
              "      <td>Chrome</td>\n",
              "      <td>Windows</td>\n",
              "      <td>False</td>\n",
              "      <td>desktop</td>\n",
              "      <td>Europe</td>\n",
              "      <td>Southern Europe</td>\n",
              "      <td>Spain</td>\n",
              "      <td>Community of Madrid</td>\n",
              "      <td>(not set)</td>\n",
              "      <td>Madrid</td>\n",
              "      <td>unknown.unknown</td>\n",
              "      <td>1.0</td>\n",
              "      <td>1.0</td>\n",
              "      <td>1.0</td>\n",
              "      <td>1.0</td>\n",
              "      <td>0.0</td>\n",
              "      <td>(not set)</td>\n",
              "      <td>google</td>\n",
              "      <td>organic</td>\n",
              "      <td>False</td>\n",
              "      <td>True</td>\n",
              "      <td>0</td>\n",
              "      <td>1</td>\n",
              "      <td>2016-09-02</td>\n",
              "      <td>9</td>\n",
              "      <td>0</td>\n",
              "      <td>4</td>\n",
              "      <td>4.638119</td>\n",
              "    </tr>\n",
              "    <tr>\n",
              "      <th>3</th>\n",
              "      <td>Organic Search</td>\n",
              "      <td>1.0</td>\n",
              "      <td>UC Browser</td>\n",
              "      <td>Linux</td>\n",
              "      <td>False</td>\n",
              "      <td>desktop</td>\n",
              "      <td>Asia</td>\n",
              "      <td>Southeast Asia</td>\n",
              "      <td>Indonesia</td>\n",
              "      <td>not available in demo dataset</td>\n",
              "      <td>not available in demo dataset</td>\n",
              "      <td>not available in demo dataset</td>\n",
              "      <td>unknown.unknown</td>\n",
              "      <td>1.0</td>\n",
              "      <td>1.0</td>\n",
              "      <td>1.0</td>\n",
              "      <td>1.0</td>\n",
              "      <td>0.0</td>\n",
              "      <td>(not set)</td>\n",
              "      <td>google</td>\n",
              "      <td>organic</td>\n",
              "      <td>False</td>\n",
              "      <td>True</td>\n",
              "      <td>0</td>\n",
              "      <td>5</td>\n",
              "      <td>2016-09-02</td>\n",
              "      <td>9</td>\n",
              "      <td>0</td>\n",
              "      <td>4</td>\n",
              "      <td>4.638119</td>\n",
              "    </tr>\n",
              "    <tr>\n",
              "      <th>4</th>\n",
              "      <td>Organic Search</td>\n",
              "      <td>2.0</td>\n",
              "      <td>Chrome</td>\n",
              "      <td>Android</td>\n",
              "      <td>True</td>\n",
              "      <td>mobile</td>\n",
              "      <td>Europe</td>\n",
              "      <td>Northern Europe</td>\n",
              "      <td>United Kingdom</td>\n",
              "      <td>not available in demo dataset</td>\n",
              "      <td>not available in demo dataset</td>\n",
              "      <td>not available in demo dataset</td>\n",
              "      <td>unknown.unknown</td>\n",
              "      <td>1.0</td>\n",
              "      <td>1.0</td>\n",
              "      <td>1.0</td>\n",
              "      <td>0.0</td>\n",
              "      <td>0.0</td>\n",
              "      <td>(not set)</td>\n",
              "      <td>google</td>\n",
              "      <td>organic</td>\n",
              "      <td>True</td>\n",
              "      <td>True</td>\n",
              "      <td>0</td>\n",
              "      <td>13</td>\n",
              "      <td>2016-09-02</td>\n",
              "      <td>9</td>\n",
              "      <td>0</td>\n",
              "      <td>4</td>\n",
              "      <td>4.638119</td>\n",
              "    </tr>\n",
              "  </tbody>\n",
              "</table>\n",
              "</div>"
            ],
            "text/plain": [
              "  channelGrouping  visitNumber  ... weekday mean_hits_per_day\n",
              "0  Organic Search          1.0  ...       4          4.638119\n",
              "1  Organic Search          1.0  ...       4          4.638119\n",
              "2  Organic Search          1.0  ...       4          4.638119\n",
              "3  Organic Search          1.0  ...       4          4.638119\n",
              "4  Organic Search          2.0  ...       4          4.638119\n",
              "\n",
              "[5 rows x 30 columns]"
            ]
          },
          "metadata": {
            "tags": []
          },
          "execution_count": 51
        }
      ]
    },
    {
      "cell_type": "code",
      "metadata": {
        "id": "4hRwIshy8tGp"
      },
      "source": [
        "cat_cols = [\"channelGrouping\", \"device.browser\", \n",
        "             \"device.operatingSystem\", 'device.isMobile','device.deviceCategory',\n",
        "            \"geoNetwork.city\", \"geoNetwork.continent\", \n",
        "            \"geoNetwork.country\", \"geoNetwork.metro\",\n",
        "            \"geoNetwork.networkDomain\", \"geoNetwork.region\", \n",
        "            \"geoNetwork.subContinent\", \n",
        "             \"trafficSource.campaign\",\n",
        "            \"trafficSource.medium\", \n",
        "             \"trafficSource.source\",\n",
        "            'trafficSource.adwordsClickInfo.isVideoAd', 'trafficSource.isTrueDirect']"
      ],
      "execution_count": 52,
      "outputs": []
    },
    {
      "cell_type": "code",
      "metadata": {
        "id": "mWnK57TPQU_5"
      },
      "source": [
        "# Label encoding"
      ],
      "execution_count": 53,
      "outputs": []
    },
    {
      "cell_type": "code",
      "metadata": {
        "id": "LGm-NvzLQnuw"
      },
      "source": [
        "for col in cat_cols:\n",
        "    # print(col)\n",
        "    lbl = preprocessing.LabelEncoder()\n",
        "    lbl.fit(list(df_3[col].values.astype('str')))\n",
        "    df_3[col] = lbl.transform(list(df_3[col].values.astype('str')))"
      ],
      "execution_count": 54,
      "outputs": []
    },
    {
      "cell_type": "code",
      "metadata": {
        "id": "fb1o1uytCc_g"
      },
      "source": [
        "# Converting to numerical columns\n"
      ],
      "execution_count": 55,
      "outputs": []
    },
    {
      "cell_type": "code",
      "metadata": {
        "id": "XuwksxNUCnsd"
      },
      "source": [
        "num_cols = [\"totals.hits\", \"totals.pageviews\", \n",
        "            \"visitNumber\", \n",
        "            'totals.bounces',  'totals.newVisits']    \n",
        "\n",
        "for col in num_cols:\n",
        "    df_3[col] = df_3[col].astype(float)"
      ],
      "execution_count": 56,
      "outputs": []
    },
    {
      "cell_type": "code",
      "metadata": {
        "colab": {
          "base_uri": "https://localhost:8080/"
        },
        "id": "m8pxrZtODDIp",
        "outputId": "c6c1b36f-235e-470d-9bed-2e03e1047c88"
      },
      "source": [
        "df_3.info()"
      ],
      "execution_count": 57,
      "outputs": [
        {
          "output_type": "stream",
          "text": [
            "<class 'pandas.core.frame.DataFrame'>\n",
            "RangeIndex: 903653 entries, 0 to 903652\n",
            "Data columns (total 30 columns):\n",
            " #   Column                                    Non-Null Count   Dtype         \n",
            "---  ------                                    --------------   -----         \n",
            " 0   channelGrouping                           903653 non-null  int64         \n",
            " 1   visitNumber                               903653 non-null  float64       \n",
            " 2   device.browser                            903653 non-null  int64         \n",
            " 3   device.operatingSystem                    903653 non-null  int64         \n",
            " 4   device.isMobile                           903653 non-null  int64         \n",
            " 5   device.deviceCategory                     903653 non-null  int64         \n",
            " 6   geoNetwork.continent                      903653 non-null  int64         \n",
            " 7   geoNetwork.subContinent                   903653 non-null  int64         \n",
            " 8   geoNetwork.country                        903653 non-null  int64         \n",
            " 9   geoNetwork.region                         903653 non-null  int64         \n",
            " 10  geoNetwork.metro                          903653 non-null  int64         \n",
            " 11  geoNetwork.city                           903653 non-null  int64         \n",
            " 12  geoNetwork.networkDomain                  903653 non-null  int64         \n",
            " 13  totals.hits                               903653 non-null  float64       \n",
            " 14  totals.pageviews                          903653 non-null  float64       \n",
            " 15  totals.bounces                            903653 non-null  float64       \n",
            " 16  totals.newVisits                          903653 non-null  float64       \n",
            " 17  totals.transactionRevenue                 903653 non-null  float64       \n",
            " 18  trafficSource.campaign                    903653 non-null  int64         \n",
            " 19  trafficSource.source                      903653 non-null  int64         \n",
            " 20  trafficSource.medium                      903653 non-null  int64         \n",
            " 21  trafficSource.isTrueDirect                903653 non-null  int64         \n",
            " 22  trafficSource.adwordsClickInfo.isVideoAd  903653 non-null  int64         \n",
            " 23  diff_visitId_time                         903653 non-null  int64         \n",
            " 24  visit_hour                                903653 non-null  int64         \n",
            " 25  formated_date                             903653 non-null  datetime64[ns]\n",
            " 26  month                                     903653 non-null  int64         \n",
            " 27  quarter_month                             903653 non-null  int64         \n",
            " 28  weekday                                   903653 non-null  int64         \n",
            " 29  mean_hits_per_day                         903653 non-null  float64       \n",
            "dtypes: datetime64[ns](1), float64(7), int64(22)\n",
            "memory usage: 206.8 MB\n"
          ],
          "name": "stdout"
        }
      ]
    },
    {
      "cell_type": "code",
      "metadata": {
        "colab": {
          "base_uri": "https://localhost:8080/",
          "height": 224
        },
        "id": "03_74TP7DISn",
        "outputId": "e3d132a8-481b-418c-f4a0-21140273abba"
      },
      "source": [
        "df_3.head()"
      ],
      "execution_count": 58,
      "outputs": [
        {
          "output_type": "execute_result",
          "data": {
            "text/html": [
              "<div>\n",
              "<style scoped>\n",
              "    .dataframe tbody tr th:only-of-type {\n",
              "        vertical-align: middle;\n",
              "    }\n",
              "\n",
              "    .dataframe tbody tr th {\n",
              "        vertical-align: top;\n",
              "    }\n",
              "\n",
              "    .dataframe thead th {\n",
              "        text-align: right;\n",
              "    }\n",
              "</style>\n",
              "<table border=\"1\" class=\"dataframe\">\n",
              "  <thead>\n",
              "    <tr style=\"text-align: right;\">\n",
              "      <th></th>\n",
              "      <th>channelGrouping</th>\n",
              "      <th>visitNumber</th>\n",
              "      <th>device.browser</th>\n",
              "      <th>device.operatingSystem</th>\n",
              "      <th>device.isMobile</th>\n",
              "      <th>device.deviceCategory</th>\n",
              "      <th>geoNetwork.continent</th>\n",
              "      <th>geoNetwork.subContinent</th>\n",
              "      <th>geoNetwork.country</th>\n",
              "      <th>geoNetwork.region</th>\n",
              "      <th>geoNetwork.metro</th>\n",
              "      <th>geoNetwork.city</th>\n",
              "      <th>geoNetwork.networkDomain</th>\n",
              "      <th>totals.hits</th>\n",
              "      <th>totals.pageviews</th>\n",
              "      <th>totals.bounces</th>\n",
              "      <th>totals.newVisits</th>\n",
              "      <th>totals.transactionRevenue</th>\n",
              "      <th>trafficSource.campaign</th>\n",
              "      <th>trafficSource.source</th>\n",
              "      <th>trafficSource.medium</th>\n",
              "      <th>trafficSource.isTrueDirect</th>\n",
              "      <th>trafficSource.adwordsClickInfo.isVideoAd</th>\n",
              "      <th>diff_visitId_time</th>\n",
              "      <th>visit_hour</th>\n",
              "      <th>formated_date</th>\n",
              "      <th>month</th>\n",
              "      <th>quarter_month</th>\n",
              "      <th>weekday</th>\n",
              "      <th>mean_hits_per_day</th>\n",
              "    </tr>\n",
              "  </thead>\n",
              "  <tbody>\n",
              "    <tr>\n",
              "      <th>0</th>\n",
              "      <td>4</td>\n",
              "      <td>1.0</td>\n",
              "      <td>11</td>\n",
              "      <td>16</td>\n",
              "      <td>0</td>\n",
              "      <td>0</td>\n",
              "      <td>3</td>\n",
              "      <td>21</td>\n",
              "      <td>204</td>\n",
              "      <td>150</td>\n",
              "      <td>0</td>\n",
              "      <td>258</td>\n",
              "      <td>24932</td>\n",
              "      <td>1.0</td>\n",
              "      <td>1.0</td>\n",
              "      <td>1.0</td>\n",
              "      <td>1.0</td>\n",
              "      <td>0.0</td>\n",
              "      <td>0</td>\n",
              "      <td>149</td>\n",
              "      <td>5</td>\n",
              "      <td>0</td>\n",
              "      <td>1</td>\n",
              "      <td>0</td>\n",
              "      <td>15</td>\n",
              "      <td>2016-09-02</td>\n",
              "      <td>9</td>\n",
              "      <td>0</td>\n",
              "      <td>4</td>\n",
              "      <td>4.638119</td>\n",
              "    </tr>\n",
              "    <tr>\n",
              "      <th>1</th>\n",
              "      <td>4</td>\n",
              "      <td>1.0</td>\n",
              "      <td>16</td>\n",
              "      <td>7</td>\n",
              "      <td>0</td>\n",
              "      <td>0</td>\n",
              "      <td>5</td>\n",
              "      <td>1</td>\n",
              "      <td>12</td>\n",
              "      <td>375</td>\n",
              "      <td>93</td>\n",
              "      <td>648</td>\n",
              "      <td>6673</td>\n",
              "      <td>1.0</td>\n",
              "      <td>1.0</td>\n",
              "      <td>1.0</td>\n",
              "      <td>1.0</td>\n",
              "      <td>0.0</td>\n",
              "      <td>0</td>\n",
              "      <td>149</td>\n",
              "      <td>5</td>\n",
              "      <td>0</td>\n",
              "      <td>1</td>\n",
              "      <td>0</td>\n",
              "      <td>5</td>\n",
              "      <td>2016-09-02</td>\n",
              "      <td>9</td>\n",
              "      <td>0</td>\n",
              "      <td>4</td>\n",
              "      <td>4.638119</td>\n",
              "    </tr>\n",
              "    <tr>\n",
              "      <th>2</th>\n",
              "      <td>4</td>\n",
              "      <td>1.0</td>\n",
              "      <td>11</td>\n",
              "      <td>16</td>\n",
              "      <td>0</td>\n",
              "      <td>0</td>\n",
              "      <td>4</td>\n",
              "      <td>19</td>\n",
              "      <td>181</td>\n",
              "      <td>78</td>\n",
              "      <td>0</td>\n",
              "      <td>325</td>\n",
              "      <td>25841</td>\n",
              "      <td>1.0</td>\n",
              "      <td>1.0</td>\n",
              "      <td>1.0</td>\n",
              "      <td>1.0</td>\n",
              "      <td>0.0</td>\n",
              "      <td>0</td>\n",
              "      <td>149</td>\n",
              "      <td>5</td>\n",
              "      <td>0</td>\n",
              "      <td>1</td>\n",
              "      <td>0</td>\n",
              "      <td>1</td>\n",
              "      <td>2016-09-02</td>\n",
              "      <td>9</td>\n",
              "      <td>0</td>\n",
              "      <td>4</td>\n",
              "      <td>4.638119</td>\n",
              "    </tr>\n",
              "    <tr>\n",
              "      <th>3</th>\n",
              "      <td>4</td>\n",
              "      <td>1.0</td>\n",
              "      <td>46</td>\n",
              "      <td>6</td>\n",
              "      <td>0</td>\n",
              "      <td>0</td>\n",
              "      <td>3</td>\n",
              "      <td>16</td>\n",
              "      <td>94</td>\n",
              "      <td>375</td>\n",
              "      <td>93</td>\n",
              "      <td>648</td>\n",
              "      <td>25841</td>\n",
              "      <td>1.0</td>\n",
              "      <td>1.0</td>\n",
              "      <td>1.0</td>\n",
              "      <td>1.0</td>\n",
              "      <td>0.0</td>\n",
              "      <td>0</td>\n",
              "      <td>149</td>\n",
              "      <td>5</td>\n",
              "      <td>0</td>\n",
              "      <td>1</td>\n",
              "      <td>0</td>\n",
              "      <td>5</td>\n",
              "      <td>2016-09-02</td>\n",
              "      <td>9</td>\n",
              "      <td>0</td>\n",
              "      <td>4</td>\n",
              "      <td>4.638119</td>\n",
              "    </tr>\n",
              "    <tr>\n",
              "      <th>4</th>\n",
              "      <td>4</td>\n",
              "      <td>2.0</td>\n",
              "      <td>11</td>\n",
              "      <td>1</td>\n",
              "      <td>1</td>\n",
              "      <td>1</td>\n",
              "      <td>4</td>\n",
              "      <td>13</td>\n",
              "      <td>211</td>\n",
              "      <td>375</td>\n",
              "      <td>93</td>\n",
              "      <td>648</td>\n",
              "      <td>25841</td>\n",
              "      <td>1.0</td>\n",
              "      <td>1.0</td>\n",
              "      <td>1.0</td>\n",
              "      <td>0.0</td>\n",
              "      <td>0.0</td>\n",
              "      <td>0</td>\n",
              "      <td>149</td>\n",
              "      <td>5</td>\n",
              "      <td>1</td>\n",
              "      <td>1</td>\n",
              "      <td>0</td>\n",
              "      <td>13</td>\n",
              "      <td>2016-09-02</td>\n",
              "      <td>9</td>\n",
              "      <td>0</td>\n",
              "      <td>4</td>\n",
              "      <td>4.638119</td>\n",
              "    </tr>\n",
              "  </tbody>\n",
              "</table>\n",
              "</div>"
            ],
            "text/plain": [
              "   channelGrouping  visitNumber  ...  weekday  mean_hits_per_day\n",
              "0                4          1.0  ...        4           4.638119\n",
              "1                4          1.0  ...        4           4.638119\n",
              "2                4          1.0  ...        4           4.638119\n",
              "3                4          1.0  ...        4           4.638119\n",
              "4                4          2.0  ...        4           4.638119\n",
              "\n",
              "[5 rows x 30 columns]"
            ]
          },
          "metadata": {
            "tags": []
          },
          "execution_count": 58
        }
      ]
    },
    {
      "cell_type": "code",
      "metadata": {
        "id": "RUA7cUf1K-Ag"
      },
      "source": [
        "# http://blog.davidkaleko.com/feature-engineering-cyclical-features.html\n",
        "# df_3['visit_hour_sin'] = np.sin(df_3.visit_hour*(2.*np.pi/24))\n",
        "# df_3['visit_hour_cos'] = np.cos(df_3.visit_hour*(2.*np.pi/24))\n",
        "# df_3['month_sin'] = np.sin((df_3.month-1)*(2.*np.pi/12))\n",
        "# df_3['month_cos'] = np.cos((df_3.month-1)*(2.*np.pi/12))"
      ],
      "execution_count": 59,
      "outputs": []
    },
    {
      "cell_type": "code",
      "metadata": {
        "id": "H6CSEcciMgSK"
      },
      "source": [
        "# df_3['weekday_sin'] = np.sin((df_3.weekday-1)*(2.*np.pi/7))\n",
        "# df_3['weekday_cos'] = np.cos((df_3.weekday-1)*(2.*np.pi/7))\n"
      ],
      "execution_count": 60,
      "outputs": []
    },
    {
      "cell_type": "code",
      "metadata": {
        "id": "Wu-vHgFwMLNT"
      },
      "source": [
        "# del df_3['month']\n",
        "# del df_3['visit_hour']"
      ],
      "execution_count": 61,
      "outputs": []
    },
    {
      "cell_type": "code",
      "metadata": {
        "id": "XuJ9SWJ3NEoA"
      },
      "source": [
        "# del df_3['weekday']"
      ],
      "execution_count": 62,
      "outputs": []
    },
    {
      "cell_type": "code",
      "metadata": {
        "colab": {
          "base_uri": "https://localhost:8080/",
          "height": 224
        },
        "id": "5WvkCH33LjvX",
        "outputId": "c937b43d-feac-49a7-c3ce-78ff1acdbc49"
      },
      "source": [
        "df_3.head()"
      ],
      "execution_count": 63,
      "outputs": [
        {
          "output_type": "execute_result",
          "data": {
            "text/html": [
              "<div>\n",
              "<style scoped>\n",
              "    .dataframe tbody tr th:only-of-type {\n",
              "        vertical-align: middle;\n",
              "    }\n",
              "\n",
              "    .dataframe tbody tr th {\n",
              "        vertical-align: top;\n",
              "    }\n",
              "\n",
              "    .dataframe thead th {\n",
              "        text-align: right;\n",
              "    }\n",
              "</style>\n",
              "<table border=\"1\" class=\"dataframe\">\n",
              "  <thead>\n",
              "    <tr style=\"text-align: right;\">\n",
              "      <th></th>\n",
              "      <th>channelGrouping</th>\n",
              "      <th>visitNumber</th>\n",
              "      <th>device.browser</th>\n",
              "      <th>device.operatingSystem</th>\n",
              "      <th>device.isMobile</th>\n",
              "      <th>device.deviceCategory</th>\n",
              "      <th>geoNetwork.continent</th>\n",
              "      <th>geoNetwork.subContinent</th>\n",
              "      <th>geoNetwork.country</th>\n",
              "      <th>geoNetwork.region</th>\n",
              "      <th>geoNetwork.metro</th>\n",
              "      <th>geoNetwork.city</th>\n",
              "      <th>geoNetwork.networkDomain</th>\n",
              "      <th>totals.hits</th>\n",
              "      <th>totals.pageviews</th>\n",
              "      <th>totals.bounces</th>\n",
              "      <th>totals.newVisits</th>\n",
              "      <th>totals.transactionRevenue</th>\n",
              "      <th>trafficSource.campaign</th>\n",
              "      <th>trafficSource.source</th>\n",
              "      <th>trafficSource.medium</th>\n",
              "      <th>trafficSource.isTrueDirect</th>\n",
              "      <th>trafficSource.adwordsClickInfo.isVideoAd</th>\n",
              "      <th>diff_visitId_time</th>\n",
              "      <th>visit_hour</th>\n",
              "      <th>formated_date</th>\n",
              "      <th>month</th>\n",
              "      <th>quarter_month</th>\n",
              "      <th>weekday</th>\n",
              "      <th>mean_hits_per_day</th>\n",
              "    </tr>\n",
              "  </thead>\n",
              "  <tbody>\n",
              "    <tr>\n",
              "      <th>0</th>\n",
              "      <td>4</td>\n",
              "      <td>1.0</td>\n",
              "      <td>11</td>\n",
              "      <td>16</td>\n",
              "      <td>0</td>\n",
              "      <td>0</td>\n",
              "      <td>3</td>\n",
              "      <td>21</td>\n",
              "      <td>204</td>\n",
              "      <td>150</td>\n",
              "      <td>0</td>\n",
              "      <td>258</td>\n",
              "      <td>24932</td>\n",
              "      <td>1.0</td>\n",
              "      <td>1.0</td>\n",
              "      <td>1.0</td>\n",
              "      <td>1.0</td>\n",
              "      <td>0.0</td>\n",
              "      <td>0</td>\n",
              "      <td>149</td>\n",
              "      <td>5</td>\n",
              "      <td>0</td>\n",
              "      <td>1</td>\n",
              "      <td>0</td>\n",
              "      <td>15</td>\n",
              "      <td>2016-09-02</td>\n",
              "      <td>9</td>\n",
              "      <td>0</td>\n",
              "      <td>4</td>\n",
              "      <td>4.638119</td>\n",
              "    </tr>\n",
              "    <tr>\n",
              "      <th>1</th>\n",
              "      <td>4</td>\n",
              "      <td>1.0</td>\n",
              "      <td>16</td>\n",
              "      <td>7</td>\n",
              "      <td>0</td>\n",
              "      <td>0</td>\n",
              "      <td>5</td>\n",
              "      <td>1</td>\n",
              "      <td>12</td>\n",
              "      <td>375</td>\n",
              "      <td>93</td>\n",
              "      <td>648</td>\n",
              "      <td>6673</td>\n",
              "      <td>1.0</td>\n",
              "      <td>1.0</td>\n",
              "      <td>1.0</td>\n",
              "      <td>1.0</td>\n",
              "      <td>0.0</td>\n",
              "      <td>0</td>\n",
              "      <td>149</td>\n",
              "      <td>5</td>\n",
              "      <td>0</td>\n",
              "      <td>1</td>\n",
              "      <td>0</td>\n",
              "      <td>5</td>\n",
              "      <td>2016-09-02</td>\n",
              "      <td>9</td>\n",
              "      <td>0</td>\n",
              "      <td>4</td>\n",
              "      <td>4.638119</td>\n",
              "    </tr>\n",
              "    <tr>\n",
              "      <th>2</th>\n",
              "      <td>4</td>\n",
              "      <td>1.0</td>\n",
              "      <td>11</td>\n",
              "      <td>16</td>\n",
              "      <td>0</td>\n",
              "      <td>0</td>\n",
              "      <td>4</td>\n",
              "      <td>19</td>\n",
              "      <td>181</td>\n",
              "      <td>78</td>\n",
              "      <td>0</td>\n",
              "      <td>325</td>\n",
              "      <td>25841</td>\n",
              "      <td>1.0</td>\n",
              "      <td>1.0</td>\n",
              "      <td>1.0</td>\n",
              "      <td>1.0</td>\n",
              "      <td>0.0</td>\n",
              "      <td>0</td>\n",
              "      <td>149</td>\n",
              "      <td>5</td>\n",
              "      <td>0</td>\n",
              "      <td>1</td>\n",
              "      <td>0</td>\n",
              "      <td>1</td>\n",
              "      <td>2016-09-02</td>\n",
              "      <td>9</td>\n",
              "      <td>0</td>\n",
              "      <td>4</td>\n",
              "      <td>4.638119</td>\n",
              "    </tr>\n",
              "    <tr>\n",
              "      <th>3</th>\n",
              "      <td>4</td>\n",
              "      <td>1.0</td>\n",
              "      <td>46</td>\n",
              "      <td>6</td>\n",
              "      <td>0</td>\n",
              "      <td>0</td>\n",
              "      <td>3</td>\n",
              "      <td>16</td>\n",
              "      <td>94</td>\n",
              "      <td>375</td>\n",
              "      <td>93</td>\n",
              "      <td>648</td>\n",
              "      <td>25841</td>\n",
              "      <td>1.0</td>\n",
              "      <td>1.0</td>\n",
              "      <td>1.0</td>\n",
              "      <td>1.0</td>\n",
              "      <td>0.0</td>\n",
              "      <td>0</td>\n",
              "      <td>149</td>\n",
              "      <td>5</td>\n",
              "      <td>0</td>\n",
              "      <td>1</td>\n",
              "      <td>0</td>\n",
              "      <td>5</td>\n",
              "      <td>2016-09-02</td>\n",
              "      <td>9</td>\n",
              "      <td>0</td>\n",
              "      <td>4</td>\n",
              "      <td>4.638119</td>\n",
              "    </tr>\n",
              "    <tr>\n",
              "      <th>4</th>\n",
              "      <td>4</td>\n",
              "      <td>2.0</td>\n",
              "      <td>11</td>\n",
              "      <td>1</td>\n",
              "      <td>1</td>\n",
              "      <td>1</td>\n",
              "      <td>4</td>\n",
              "      <td>13</td>\n",
              "      <td>211</td>\n",
              "      <td>375</td>\n",
              "      <td>93</td>\n",
              "      <td>648</td>\n",
              "      <td>25841</td>\n",
              "      <td>1.0</td>\n",
              "      <td>1.0</td>\n",
              "      <td>1.0</td>\n",
              "      <td>0.0</td>\n",
              "      <td>0.0</td>\n",
              "      <td>0</td>\n",
              "      <td>149</td>\n",
              "      <td>5</td>\n",
              "      <td>1</td>\n",
              "      <td>1</td>\n",
              "      <td>0</td>\n",
              "      <td>13</td>\n",
              "      <td>2016-09-02</td>\n",
              "      <td>9</td>\n",
              "      <td>0</td>\n",
              "      <td>4</td>\n",
              "      <td>4.638119</td>\n",
              "    </tr>\n",
              "  </tbody>\n",
              "</table>\n",
              "</div>"
            ],
            "text/plain": [
              "   channelGrouping  visitNumber  ...  weekday  mean_hits_per_day\n",
              "0                4          1.0  ...        4           4.638119\n",
              "1                4          1.0  ...        4           4.638119\n",
              "2                4          1.0  ...        4           4.638119\n",
              "3                4          1.0  ...        4           4.638119\n",
              "4                4          2.0  ...        4           4.638119\n",
              "\n",
              "[5 rows x 30 columns]"
            ]
          },
          "metadata": {
            "tags": []
          },
          "execution_count": 63
        }
      ]
    },
    {
      "cell_type": "code",
      "metadata": {
        "id": "HChIvx81NSDH"
      },
      "source": [
        ""
      ],
      "execution_count": 63,
      "outputs": []
    },
    {
      "cell_type": "code",
      "metadata": {
        "id": "frhcgbMbNSRI"
      },
      "source": [
        ""
      ],
      "execution_count": 63,
      "outputs": []
    },
    {
      "cell_type": "code",
      "metadata": {
        "id": "aZD3DmM7NSbY"
      },
      "source": [
        ""
      ],
      "execution_count": 63,
      "outputs": []
    },
    {
      "cell_type": "code",
      "metadata": {
        "id": "fDskg2tUb7Fj"
      },
      "source": [
        "# cat_cols_1 = ['quarter_month','month','weekday','visit_hour']"
      ],
      "execution_count": 64,
      "outputs": []
    },
    {
      "cell_type": "code",
      "metadata": {
        "id": "eCWJtH21cDPY"
      },
      "source": [
        "# for col in cat_cols_1:\n",
        "#     # print(col)\n",
        "#     lbl = preprocessing.LabelEncoder()\n",
        "#     lbl.fit(list(df_2[col].values.astype('str')))\n",
        "#     df_2[col] = lbl.transform(list(df_2[col].values.astype('str')))"
      ],
      "execution_count": 65,
      "outputs": []
    },
    {
      "cell_type": "code",
      "metadata": {
        "id": "nJtp9ct7cFqZ"
      },
      "source": [
        "# df_2.info()"
      ],
      "execution_count": 66,
      "outputs": []
    },
    {
      "cell_type": "code",
      "metadata": {
        "id": "jC-oQE7_WP3N"
      },
      "source": [
        "# plt.rcParams[\"figure.figsize\"] = (30,30)"
      ],
      "execution_count": 67,
      "outputs": []
    },
    {
      "cell_type": "code",
      "metadata": {
        "id": "j9Au6NJPQyE4"
      },
      "source": [
        "# sns.heatmap(df_3.corr(), annot = True)"
      ],
      "execution_count": 68,
      "outputs": []
    },
    {
      "cell_type": "code",
      "metadata": {
        "id": "A-569nmXkBKc"
      },
      "source": [
        "# Feature Engineering completed"
      ],
      "execution_count": 69,
      "outputs": []
    },
    {
      "cell_type": "code",
      "metadata": {
        "id": "7baFDjOs9zB3"
      },
      "source": [
        "# Trying dimensionality reduction technique"
      ],
      "execution_count": 70,
      "outputs": []
    },
    {
      "cell_type": "code",
      "metadata": {
        "colab": {
          "base_uri": "https://localhost:8080/",
          "height": 224
        },
        "id": "2eNbg29392S_",
        "outputId": "0fb6c372-8f71-4f38-e30e-4440438fe9c8"
      },
      "source": [
        "df_3.head()"
      ],
      "execution_count": 71,
      "outputs": [
        {
          "output_type": "execute_result",
          "data": {
            "text/html": [
              "<div>\n",
              "<style scoped>\n",
              "    .dataframe tbody tr th:only-of-type {\n",
              "        vertical-align: middle;\n",
              "    }\n",
              "\n",
              "    .dataframe tbody tr th {\n",
              "        vertical-align: top;\n",
              "    }\n",
              "\n",
              "    .dataframe thead th {\n",
              "        text-align: right;\n",
              "    }\n",
              "</style>\n",
              "<table border=\"1\" class=\"dataframe\">\n",
              "  <thead>\n",
              "    <tr style=\"text-align: right;\">\n",
              "      <th></th>\n",
              "      <th>channelGrouping</th>\n",
              "      <th>visitNumber</th>\n",
              "      <th>device.browser</th>\n",
              "      <th>device.operatingSystem</th>\n",
              "      <th>device.isMobile</th>\n",
              "      <th>device.deviceCategory</th>\n",
              "      <th>geoNetwork.continent</th>\n",
              "      <th>geoNetwork.subContinent</th>\n",
              "      <th>geoNetwork.country</th>\n",
              "      <th>geoNetwork.region</th>\n",
              "      <th>geoNetwork.metro</th>\n",
              "      <th>geoNetwork.city</th>\n",
              "      <th>geoNetwork.networkDomain</th>\n",
              "      <th>totals.hits</th>\n",
              "      <th>totals.pageviews</th>\n",
              "      <th>totals.bounces</th>\n",
              "      <th>totals.newVisits</th>\n",
              "      <th>totals.transactionRevenue</th>\n",
              "      <th>trafficSource.campaign</th>\n",
              "      <th>trafficSource.source</th>\n",
              "      <th>trafficSource.medium</th>\n",
              "      <th>trafficSource.isTrueDirect</th>\n",
              "      <th>trafficSource.adwordsClickInfo.isVideoAd</th>\n",
              "      <th>diff_visitId_time</th>\n",
              "      <th>visit_hour</th>\n",
              "      <th>formated_date</th>\n",
              "      <th>month</th>\n",
              "      <th>quarter_month</th>\n",
              "      <th>weekday</th>\n",
              "      <th>mean_hits_per_day</th>\n",
              "    </tr>\n",
              "  </thead>\n",
              "  <tbody>\n",
              "    <tr>\n",
              "      <th>0</th>\n",
              "      <td>4</td>\n",
              "      <td>1.0</td>\n",
              "      <td>11</td>\n",
              "      <td>16</td>\n",
              "      <td>0</td>\n",
              "      <td>0</td>\n",
              "      <td>3</td>\n",
              "      <td>21</td>\n",
              "      <td>204</td>\n",
              "      <td>150</td>\n",
              "      <td>0</td>\n",
              "      <td>258</td>\n",
              "      <td>24932</td>\n",
              "      <td>1.0</td>\n",
              "      <td>1.0</td>\n",
              "      <td>1.0</td>\n",
              "      <td>1.0</td>\n",
              "      <td>0.0</td>\n",
              "      <td>0</td>\n",
              "      <td>149</td>\n",
              "      <td>5</td>\n",
              "      <td>0</td>\n",
              "      <td>1</td>\n",
              "      <td>0</td>\n",
              "      <td>15</td>\n",
              "      <td>2016-09-02</td>\n",
              "      <td>9</td>\n",
              "      <td>0</td>\n",
              "      <td>4</td>\n",
              "      <td>4.638119</td>\n",
              "    </tr>\n",
              "    <tr>\n",
              "      <th>1</th>\n",
              "      <td>4</td>\n",
              "      <td>1.0</td>\n",
              "      <td>16</td>\n",
              "      <td>7</td>\n",
              "      <td>0</td>\n",
              "      <td>0</td>\n",
              "      <td>5</td>\n",
              "      <td>1</td>\n",
              "      <td>12</td>\n",
              "      <td>375</td>\n",
              "      <td>93</td>\n",
              "      <td>648</td>\n",
              "      <td>6673</td>\n",
              "      <td>1.0</td>\n",
              "      <td>1.0</td>\n",
              "      <td>1.0</td>\n",
              "      <td>1.0</td>\n",
              "      <td>0.0</td>\n",
              "      <td>0</td>\n",
              "      <td>149</td>\n",
              "      <td>5</td>\n",
              "      <td>0</td>\n",
              "      <td>1</td>\n",
              "      <td>0</td>\n",
              "      <td>5</td>\n",
              "      <td>2016-09-02</td>\n",
              "      <td>9</td>\n",
              "      <td>0</td>\n",
              "      <td>4</td>\n",
              "      <td>4.638119</td>\n",
              "    </tr>\n",
              "    <tr>\n",
              "      <th>2</th>\n",
              "      <td>4</td>\n",
              "      <td>1.0</td>\n",
              "      <td>11</td>\n",
              "      <td>16</td>\n",
              "      <td>0</td>\n",
              "      <td>0</td>\n",
              "      <td>4</td>\n",
              "      <td>19</td>\n",
              "      <td>181</td>\n",
              "      <td>78</td>\n",
              "      <td>0</td>\n",
              "      <td>325</td>\n",
              "      <td>25841</td>\n",
              "      <td>1.0</td>\n",
              "      <td>1.0</td>\n",
              "      <td>1.0</td>\n",
              "      <td>1.0</td>\n",
              "      <td>0.0</td>\n",
              "      <td>0</td>\n",
              "      <td>149</td>\n",
              "      <td>5</td>\n",
              "      <td>0</td>\n",
              "      <td>1</td>\n",
              "      <td>0</td>\n",
              "      <td>1</td>\n",
              "      <td>2016-09-02</td>\n",
              "      <td>9</td>\n",
              "      <td>0</td>\n",
              "      <td>4</td>\n",
              "      <td>4.638119</td>\n",
              "    </tr>\n",
              "    <tr>\n",
              "      <th>3</th>\n",
              "      <td>4</td>\n",
              "      <td>1.0</td>\n",
              "      <td>46</td>\n",
              "      <td>6</td>\n",
              "      <td>0</td>\n",
              "      <td>0</td>\n",
              "      <td>3</td>\n",
              "      <td>16</td>\n",
              "      <td>94</td>\n",
              "      <td>375</td>\n",
              "      <td>93</td>\n",
              "      <td>648</td>\n",
              "      <td>25841</td>\n",
              "      <td>1.0</td>\n",
              "      <td>1.0</td>\n",
              "      <td>1.0</td>\n",
              "      <td>1.0</td>\n",
              "      <td>0.0</td>\n",
              "      <td>0</td>\n",
              "      <td>149</td>\n",
              "      <td>5</td>\n",
              "      <td>0</td>\n",
              "      <td>1</td>\n",
              "      <td>0</td>\n",
              "      <td>5</td>\n",
              "      <td>2016-09-02</td>\n",
              "      <td>9</td>\n",
              "      <td>0</td>\n",
              "      <td>4</td>\n",
              "      <td>4.638119</td>\n",
              "    </tr>\n",
              "    <tr>\n",
              "      <th>4</th>\n",
              "      <td>4</td>\n",
              "      <td>2.0</td>\n",
              "      <td>11</td>\n",
              "      <td>1</td>\n",
              "      <td>1</td>\n",
              "      <td>1</td>\n",
              "      <td>4</td>\n",
              "      <td>13</td>\n",
              "      <td>211</td>\n",
              "      <td>375</td>\n",
              "      <td>93</td>\n",
              "      <td>648</td>\n",
              "      <td>25841</td>\n",
              "      <td>1.0</td>\n",
              "      <td>1.0</td>\n",
              "      <td>1.0</td>\n",
              "      <td>0.0</td>\n",
              "      <td>0.0</td>\n",
              "      <td>0</td>\n",
              "      <td>149</td>\n",
              "      <td>5</td>\n",
              "      <td>1</td>\n",
              "      <td>1</td>\n",
              "      <td>0</td>\n",
              "      <td>13</td>\n",
              "      <td>2016-09-02</td>\n",
              "      <td>9</td>\n",
              "      <td>0</td>\n",
              "      <td>4</td>\n",
              "      <td>4.638119</td>\n",
              "    </tr>\n",
              "  </tbody>\n",
              "</table>\n",
              "</div>"
            ],
            "text/plain": [
              "   channelGrouping  visitNumber  ...  weekday  mean_hits_per_day\n",
              "0                4          1.0  ...        4           4.638119\n",
              "1                4          1.0  ...        4           4.638119\n",
              "2                4          1.0  ...        4           4.638119\n",
              "3                4          1.0  ...        4           4.638119\n",
              "4                4          2.0  ...        4           4.638119\n",
              "\n",
              "[5 rows x 30 columns]"
            ]
          },
          "metadata": {
            "tags": []
          },
          "execution_count": 71
        }
      ]
    },
    {
      "cell_type": "code",
      "metadata": {
        "colab": {
          "base_uri": "https://localhost:8080/"
        },
        "id": "p70RFuZXMCfR",
        "outputId": "01808250-9ec0-45ff-d6f7-727a3da04b95"
      },
      "source": [
        "df_3.shape"
      ],
      "execution_count": 72,
      "outputs": [
        {
          "output_type": "execute_result",
          "data": {
            "text/plain": [
              "(903653, 30)"
            ]
          },
          "metadata": {
            "tags": []
          },
          "execution_count": 72
        }
      ]
    },
    {
      "cell_type": "code",
      "metadata": {
        "id": "QUnybX2i-2Zt"
      },
      "source": [
        "df_4 = df_3.copy()"
      ],
      "execution_count": 73,
      "outputs": []
    },
    {
      "cell_type": "code",
      "metadata": {
        "id": "hOYThfmr_hjx"
      },
      "source": [
        "df_4.head()"
      ],
      "execution_count": 74,
      "outputs": []
    },
    {
      "cell_type": "code",
      "metadata": {
        "id": "3VW18ahjEVez"
      },
      "source": [
        "# Sort using date\n",
        "df_4 = df_4.set_index(df_4['formated_date'])\n",
        "df_4 = df_4.sort_index()"
      ],
      "execution_count": 75,
      "outputs": []
    },
    {
      "cell_type": "code",
      "metadata": {
        "id": "dybQsCnZEkjf"
      },
      "source": [
        "# df_4.head()"
      ],
      "execution_count": 76,
      "outputs": []
    },
    {
      "cell_type": "code",
      "metadata": {
        "id": "Tcfi0QDi-5oF"
      },
      "source": [
        "# Remove date column\n",
        "df_4 = df_4.drop(['formated_date','totals.transactionRevenue'],axis=1)"
      ],
      "execution_count": 77,
      "outputs": []
    },
    {
      "cell_type": "code",
      "metadata": {
        "id": "5eMQiySC_IsW"
      },
      "source": [
        "# df_4.info()"
      ],
      "execution_count": 78,
      "outputs": []
    },
    {
      "cell_type": "code",
      "metadata": {
        "id": "hNAnU2g3EsN3"
      },
      "source": [
        "# df_4.head()"
      ],
      "execution_count": 79,
      "outputs": []
    },
    {
      "cell_type": "code",
      "metadata": {
        "id": "4Y4xQnjc_5IO"
      },
      "source": [
        "pca = PCA(0.90)"
      ],
      "execution_count": 80,
      "outputs": []
    },
    {
      "cell_type": "code",
      "metadata": {
        "id": "8Jj8wpkA-UcN"
      },
      "source": [
        "pca.fit_transform(df_4)"
      ],
      "execution_count": 81,
      "outputs": []
    },
    {
      "cell_type": "code",
      "metadata": {
        "id": "1DNYsJT0IpxN"
      },
      "source": [
        "# print(pd.DataFrame(pca.components_,columns=df_4.columns))\n",
        "# No reduction in number of columns "
      ],
      "execution_count": 82,
      "outputs": []
    },
    {
      "cell_type": "code",
      "metadata": {
        "id": "V2QtqnaiIEAm"
      },
      "source": [
        "# df_4"
      ],
      "execution_count": 83,
      "outputs": []
    },
    {
      "cell_type": "code",
      "metadata": {
        "id": "XUWOyOVV_8Gj"
      },
      "source": [
        "# df_5 = pd.DataFrame(df_4)"
      ],
      "execution_count": 84,
      "outputs": []
    },
    {
      "cell_type": "code",
      "metadata": {
        "id": "bO8Kxmp_CYem"
      },
      "source": [
        "# df_5.head()"
      ],
      "execution_count": 85,
      "outputs": []
    },
    {
      "cell_type": "code",
      "metadata": {
        "id": "EXMII7fyklf1"
      },
      "source": [
        "# Dividing into training and testing"
      ],
      "execution_count": 86,
      "outputs": []
    },
    {
      "cell_type": "code",
      "metadata": {
        "id": "W8z5shPAQn68"
      },
      "source": [
        "X = df_3.copy()"
      ],
      "execution_count": 87,
      "outputs": []
    },
    {
      "cell_type": "code",
      "metadata": {
        "id": "f8EbsrzS8lO_"
      },
      "source": [
        "# X.shape"
      ],
      "execution_count": 88,
      "outputs": []
    },
    {
      "cell_type": "code",
      "metadata": {
        "id": "oJYKoW2h-GhS"
      },
      "source": [
        "# X.head()"
      ],
      "execution_count": 89,
      "outputs": []
    },
    {
      "cell_type": "code",
      "metadata": {
        "id": "1hkFOLq1-jOt"
      },
      "source": [
        "# X.info()"
      ],
      "execution_count": 90,
      "outputs": []
    },
    {
      "cell_type": "code",
      "metadata": {
        "id": "Pwl2qbo1A2QR"
      },
      "source": [
        "# X_new = X.drop('date', axis = 1)"
      ],
      "execution_count": 91,
      "outputs": []
    },
    {
      "cell_type": "code",
      "metadata": {
        "id": "sUCdd216B_GD"
      },
      "source": [
        "from datetime import datetime, date"
      ],
      "execution_count": 92,
      "outputs": []
    },
    {
      "cell_type": "code",
      "metadata": {
        "id": "2FEhw3ZvgM11"
      },
      "source": [
        "X = X.set_index(X['formated_date'])\n",
        "X = X.sort_index()"
      ],
      "execution_count": 93,
      "outputs": []
    },
    {
      "cell_type": "code",
      "metadata": {
        "id": "ovWQ4IyhgBtw"
      },
      "source": [
        "# min(X['formated_date'])"
      ],
      "execution_count": 94,
      "outputs": []
    },
    {
      "cell_type": "code",
      "metadata": {
        "id": "VtHL1_22gUG-"
      },
      "source": [
        "# max(X['formated_date'])"
      ],
      "execution_count": 95,
      "outputs": []
    },
    {
      "cell_type": "code",
      "metadata": {
        "id": "mnL3Ko-tAf2C"
      },
      "source": [
        "train = X['2016-08-01':'2017-05-31']\n",
        "test  = X['2017-05-31':]\n"
      ],
      "execution_count": 96,
      "outputs": []
    },
    {
      "cell_type": "code",
      "metadata": {
        "colab": {
          "base_uri": "https://localhost:8080/"
        },
        "id": "WGuTd9-1ghTS",
        "outputId": "1611ad78-48a3-4ed7-fc91-d195b351beaa"
      },
      "source": [
        "print(train.shape)\n",
        "print(test.shape)"
      ],
      "execution_count": 97,
      "outputs": [
        {
          "output_type": "stream",
          "text": [
            "(765707, 30)\n",
            "(140238, 30)\n"
          ],
          "name": "stdout"
        }
      ]
    },
    {
      "cell_type": "code",
      "metadata": {
        "id": "TD5fWEF7MhNh"
      },
      "source": [
        "X_train = train.drop(['formated_date','totals.transactionRevenue'], axis = 1)\n",
        "X_test = test.drop(['formated_date','totals.transactionRevenue'], axis=1)"
      ],
      "execution_count": 98,
      "outputs": []
    },
    {
      "cell_type": "code",
      "metadata": {
        "colab": {
          "base_uri": "https://localhost:8080/"
        },
        "id": "8j_VC9trMizG",
        "outputId": "68d2055d-b929-4a60-d139-df0d20a0c2b3"
      },
      "source": [
        "print(X_train.shape)\n",
        "print(X_test.shape)"
      ],
      "execution_count": 99,
      "outputs": [
        {
          "output_type": "stream",
          "text": [
            "(765707, 28)\n",
            "(140238, 28)\n"
          ],
          "name": "stdout"
        }
      ]
    },
    {
      "cell_type": "code",
      "metadata": {
        "id": "ssp9D6q7YbHI"
      },
      "source": [
        "y_train = np.log1p(train[\"totals.transactionRevenue\"].values)\n",
        "y_test = np.log1p(test[\"totals.transactionRevenue\"].values)"
      ],
      "execution_count": 100,
      "outputs": []
    },
    {
      "cell_type": "code",
      "metadata": {
        "colab": {
          "base_uri": "https://localhost:8080/"
        },
        "id": "ibVRmuKZMncB",
        "outputId": "5fcc5f9b-1d2d-40f0-a20a-38c47767b307"
      },
      "source": [
        "print(y_train.shape)\n",
        "print(y_test.shape)"
      ],
      "execution_count": 101,
      "outputs": [
        {
          "output_type": "stream",
          "text": [
            "(765707,)\n",
            "(140238,)\n"
          ],
          "name": "stdout"
        }
      ]
    },
    {
      "cell_type": "code",
      "metadata": {
        "id": "VWq5Y8qkhJPy"
      },
      "source": [
        "# # Dropping date and target column\n",
        "# X_train = df_5.iloc[0:722922,:]\n",
        "# X_test = df_5.iloc[722922:,:]"
      ],
      "execution_count": 102,
      "outputs": []
    },
    {
      "cell_type": "code",
      "metadata": {
        "id": "XTykY5wzXVRu"
      },
      "source": [
        "# print(X_train.shape)\n",
        "# print(X_test.shape)"
      ],
      "execution_count": 103,
      "outputs": []
    },
    {
      "cell_type": "code",
      "metadata": {
        "id": "UXtbWHBDXrg1"
      },
      "source": [
        "# X_train.head()"
      ],
      "execution_count": 104,
      "outputs": []
    },
    {
      "cell_type": "code",
      "metadata": {
        "id": "_ooGL6zhbHpF"
      },
      "source": [
        "# out = test['totals.transactionRevenue'].values"
      ],
      "execution_count": 105,
      "outputs": []
    },
    {
      "cell_type": "code",
      "metadata": {
        "id": "s1yPJb53bU5G"
      },
      "source": [
        "# output = pd.DataFrame(out)"
      ],
      "execution_count": 106,
      "outputs": []
    },
    {
      "cell_type": "code",
      "metadata": {
        "id": "P234lrYPbrsJ"
      },
      "source": [
        "# output.columns = ['ActualRevenue']"
      ],
      "execution_count": 107,
      "outputs": []
    },
    {
      "cell_type": "code",
      "metadata": {
        "id": "ofcd7v7IcH-p"
      },
      "source": [
        "# output.head()"
      ],
      "execution_count": 108,
      "outputs": []
    },
    {
      "cell_type": "code",
      "metadata": {
        "id": "O2fdVaJLjmAE"
      },
      "source": [
        "# #  transaction revenue\n",
        "# y = np.log1p(df_3[\"totals.transactionRevenue\"].values)"
      ],
      "execution_count": 109,
      "outputs": []
    },
    {
      "cell_type": "code",
      "metadata": {
        "id": "M6VyJqViFNTH"
      },
      "source": [
        "# y.shape"
      ],
      "execution_count": 110,
      "outputs": []
    },
    {
      "cell_type": "code",
      "metadata": {
        "id": "fvdG_nRYFh8p"
      },
      "source": [
        ""
      ],
      "execution_count": 110,
      "outputs": []
    },
    {
      "cell_type": "code",
      "metadata": {
        "id": "o3fpYKPFFP0c"
      },
      "source": [
        "# y_train = y[0:722922]\n",
        "# y_test = y[722922:]"
      ],
      "execution_count": 111,
      "outputs": []
    },
    {
      "cell_type": "code",
      "metadata": {
        "id": "2v9srtPXYbpw"
      },
      "source": [
        "# print(y_train.shape)\n",
        "# print(y_test.shape)"
      ],
      "execution_count": 112,
      "outputs": []
    },
    {
      "cell_type": "code",
      "metadata": {
        "id": "I6cSEJJTFqYn"
      },
      "source": [
        "# pca.explained_variance_"
      ],
      "execution_count": 113,
      "outputs": []
    },
    {
      "cell_type": "code",
      "metadata": {
        "id": "fqIcq8JGF3J9"
      },
      "source": [
        "# data_dmatrix = xgb.DMatrix(data=X_train,label=y_train)"
      ],
      "execution_count": 114,
      "outputs": []
    },
    {
      "cell_type": "code",
      "metadata": {
        "id": "zBYAhO6jHRhJ"
      },
      "source": [
        "# cv_results"
      ],
      "execution_count": 115,
      "outputs": []
    },
    {
      "cell_type": "code",
      "metadata": {
        "id": "1RkeoZO5GoZ1"
      },
      "source": [
        "# xg_reg = xgb.train(params=params, dtrain=data_dmatrix, num_boost_round=50)"
      ],
      "execution_count": 116,
      "outputs": []
    },
    {
      "cell_type": "code",
      "metadata": {
        "id": "RTFpEHbtGpCC"
      },
      "source": [
        "# xgb_val_data = xgb.DMatrix(X_test, y_test)"
      ],
      "execution_count": 117,
      "outputs": []
    },
    {
      "cell_type": "code",
      "metadata": {
        "id": "b2_0FRGhGy8Y"
      },
      "source": [
        "# y_pred = xg_reg.predict(xgb_val_data)"
      ],
      "execution_count": 118,
      "outputs": []
    },
    {
      "cell_type": "code",
      "metadata": {
        "id": "FLhRLrLaG1Aa"
      },
      "source": [
        "# print(mean_squared_error(y_test, y_pred, squared=False))"
      ],
      "execution_count": 119,
      "outputs": []
    },
    {
      "cell_type": "code",
      "metadata": {
        "id": "pvM4wFr5Guhu"
      },
      "source": [
        "# params = {\"objective\":\"reg:squarederror\",'colsample_bytree': 0.3,'learning_rate': 0.3,\n",
        "#                 'max_depth': 5, 'alpha': 10}\n",
        "\n",
        "# cv_results = xgb.cv(dtrain=data_dmatrix, params=params, nfold=3,\n",
        "#                     num_boost_round=50,early_stopping_rounds=10,metrics=\"rmse\", as_pandas=True, seed=123)"
      ],
      "execution_count": 120,
      "outputs": []
    },
    {
      "cell_type": "code",
      "metadata": {
        "colab": {
          "base_uri": "https://localhost:8080/"
        },
        "id": "Le6ijTziZ8eD",
        "outputId": "3e2fb047-2a69-435c-c5ad-7109d8e83cdb"
      },
      "source": [
        "X_train.shape"
      ],
      "execution_count": 121,
      "outputs": [
        {
          "output_type": "execute_result",
          "data": {
            "text/plain": [
              "(765707, 28)"
            ]
          },
          "metadata": {
            "tags": []
          },
          "execution_count": 121
        }
      ]
    },
    {
      "cell_type": "code",
      "metadata": {
        "id": "8XhguanrfYWK"
      },
      "source": [
        "from sklearn.preprocessing import StandardScaler"
      ],
      "execution_count": 122,
      "outputs": []
    },
    {
      "cell_type": "code",
      "metadata": {
        "id": "u9x-8H01fejL"
      },
      "source": [
        "scaler = StandardScaler()"
      ],
      "execution_count": 123,
      "outputs": []
    },
    {
      "cell_type": "code",
      "metadata": {
        "id": "tNCtrnOPfhMo"
      },
      "source": [
        "X_scale = scaler.fit_transform(X_train)"
      ],
      "execution_count": 124,
      "outputs": []
    },
    {
      "cell_type": "code",
      "metadata": {
        "id": "xgCoG2FyfnvM"
      },
      "source": [
        "X_test_scale = scaler.fit_transform(X_test)"
      ],
      "execution_count": 125,
      "outputs": []
    },
    {
      "cell_type": "code",
      "metadata": {
        "id": "GjfUVCoTfsz1"
      },
      "source": [
        ""
      ],
      "execution_count": 125,
      "outputs": []
    },
    {
      "cell_type": "code",
      "metadata": {
        "id": "njtopqbcZ8oA"
      },
      "source": [
        "from sklearn.linear_model import RidgeCV\n",
        "from sklearn.svm import LinearSVR\n",
        "from sklearn.ensemble import RandomForestRegressor\n",
        "from sklearn.ensemble import StackingRegressor"
      ],
      "execution_count": 126,
      "outputs": []
    },
    {
      "cell_type": "code",
      "metadata": {
        "id": "U9boqQovbvzb"
      },
      "source": [
        "# estimators = [\n",
        "#      ('lr', RidgeCV()),\n",
        "#      ('svr', LinearSVR(random_state=42))\n",
        "#  ]\n",
        "# reg = StackingRegressor(estimators=estimators,final_estimator=RandomForestRegressor(n_estimators=10,random_state=42))"
      ],
      "execution_count": 127,
      "outputs": []
    },
    {
      "cell_type": "code",
      "metadata": {
        "id": "ToJaEqtldK0Y"
      },
      "source": [
        "# reg.fit(X_scale, y_train)"
      ],
      "execution_count": 128,
      "outputs": []
    },
    {
      "cell_type": "code",
      "metadata": {
        "id": "-Xrn4OjsgpGz"
      },
      "source": [
        "# y_pred = reg.predict(X_test_scale)"
      ],
      "execution_count": 129,
      "outputs": []
    },
    {
      "cell_type": "code",
      "metadata": {
        "id": "Wzuu3NdTdP3h"
      },
      "source": [
        "# print(mean_squared_error(y_test, y_pred, squared=False))"
      ],
      "execution_count": 130,
      "outputs": []
    },
    {
      "cell_type": "code",
      "metadata": {
        "id": "Kl-Ati-ZiWsx"
      },
      "source": [
        "from sklearn.svm import SVC\n",
        "from sklearn.model_selection import GridSearchCV\n",
        "from sklearn.svm import SVR"
      ],
      "execution_count": 131,
      "outputs": []
    },
    {
      "cell_type": "code",
      "metadata": {
        "colab": {
          "base_uri": "https://localhost:8080/"
        },
        "id": "fFBXVx_ZjG2i",
        "outputId": "dcd72a48-5413-412f-c02a-cfd52d2b5fed"
      },
      "source": [
        "print(X_train.shape)\n",
        "print(y_train.shape)"
      ],
      "execution_count": 132,
      "outputs": [
        {
          "output_type": "stream",
          "text": [
            "(765707, 28)\n",
            "(765707,)\n"
          ],
          "name": "stdout"
        }
      ]
    },
    {
      "cell_type": "code",
      "metadata": {
        "id": "_6YkhcIbmST6"
      },
      "source": [
        "m = SVR()\n",
        "m.fit(X_scale, y_train)\n",
        "y_pred = m.predict(X_test_scale)"
      ],
      "execution_count": null,
      "outputs": []
    },
    {
      "cell_type": "code",
      "metadata": {
        "id": "ML2xNlB8mi2t"
      },
      "source": [
        "mean_squared_error(y_test, y_pred)"
      ],
      "execution_count": null,
      "outputs": []
    },
    {
      "cell_type": "code",
      "metadata": {
        "id": "6LxILeaYiXHN"
      },
      "source": [
        "# param_grid = {'C': [0.1, 1, 10, 100, 1000], \n",
        "#               'gamma': [1, 0.1, 0.01, 0.001, 0.0001],\n",
        "#               'kernel': ['rbf']} \n",
        "  \n",
        "# grid = GridSearchCV(SVR(), param_grid, verbose = 3)\n",
        "  \n",
        "# # fitting the model for grid search\n",
        "# grid.fit(X_train, y_train)"
      ],
      "execution_count": null,
      "outputs": []
    }
  ]
}